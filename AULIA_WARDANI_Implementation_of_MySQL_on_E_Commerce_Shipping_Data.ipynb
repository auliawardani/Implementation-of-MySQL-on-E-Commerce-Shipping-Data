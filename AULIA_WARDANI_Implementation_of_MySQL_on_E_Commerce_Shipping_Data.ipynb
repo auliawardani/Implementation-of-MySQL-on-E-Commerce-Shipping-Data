{
  "cells": [
    {
      "cell_type": "markdown",
      "id": "5b0eb651",
      "metadata": {
        "id": "5b0eb651"
      },
      "source": [
        "# Install Library"
      ]
    },
    {
      "cell_type": "code",
      "execution_count": null,
      "id": "4dddf51d",
      "metadata": {
        "id": "4dddf51d",
        "outputId": "e5f9cb0c-3043-4f5b-fda9-f2114edfc278"
      },
      "outputs": [
        {
          "name": "stdout",
          "output_type": "stream",
          "text": [
            "Collecting package metadata (current_repodata.json): ...working... done\n",
            "Solving environment: ...working... done\n",
            "\n",
            "# All requested packages already installed.\n",
            "\n"
          ]
        },
        {
          "name": "stderr",
          "output_type": "stream",
          "text": [
            "\n",
            "\n",
            "==> WARNING: A newer version of conda exists. <==\n",
            "  current version: 23.3.1\n",
            "  latest version: 23.5.0\n",
            "\n",
            "Please update conda by running\n",
            "\n",
            "    $ conda update -n base -c defaults conda\n",
            "\n",
            "Or to minimize the number of packages updated during conda update use\n",
            "\n",
            "     conda install conda=23.5.0\n",
            "\n",
            "\n"
          ]
        }
      ],
      "source": [
        "! conda install pandas"
      ]
    },
    {
      "cell_type": "code",
      "execution_count": null,
      "id": "3bc875fb",
      "metadata": {
        "id": "3bc875fb",
        "outputId": "42cfd629-9ebe-49cc-de13-5e19fb815134"
      },
      "outputs": [
        {
          "name": "stdout",
          "output_type": "stream",
          "text": [
            "Requirement already satisfied: pymysql in c:\\users\\m s i\\anaconda3\\lib\\site-packages (1.0.3)\n",
            "Requirement already satisfied: ipython-sql in c:\\users\\m s i\\anaconda3\\lib\\site-packages (0.5.0)\n",
            "Requirement already satisfied: six in c:\\users\\m s i\\anaconda3\\lib\\site-packages (from ipython-sql) (1.16.0)\n",
            "Requirement already satisfied: ipython-genutils in c:\\users\\m s i\\anaconda3\\lib\\site-packages (from ipython-sql) (0.2.0)\n",
            "Requirement already satisfied: prettytable in c:\\users\\m s i\\anaconda3\\lib\\site-packages (from ipython-sql) (3.7.0)\n",
            "Requirement already satisfied: sqlparse in c:\\users\\m s i\\anaconda3\\lib\\site-packages (from ipython-sql) (0.4.4)\n",
            "Requirement already satisfied: sqlalchemy>=2.0 in c:\\users\\m s i\\anaconda3\\lib\\site-packages (from ipython-sql) (2.0.14)\n",
            "Requirement already satisfied: ipython in c:\\users\\m s i\\anaconda3\\lib\\site-packages (from ipython-sql) (8.10.0)\n",
            "Requirement already satisfied: typing-extensions>=4.2.0 in c:\\users\\m s i\\anaconda3\\lib\\site-packages (from sqlalchemy>=2.0->ipython-sql) (4.4.0)\n",
            "Requirement already satisfied: greenlet!=0.4.17 in c:\\users\\m s i\\anaconda3\\lib\\site-packages (from sqlalchemy>=2.0->ipython-sql) (2.0.1)\n",
            "Requirement already satisfied: stack-data in c:\\users\\m s i\\anaconda3\\lib\\site-packages (from ipython->ipython-sql) (0.2.0)\n",
            "Requirement already satisfied: prompt-toolkit<3.1.0,>=3.0.30 in c:\\users\\m s i\\anaconda3\\lib\\site-packages (from ipython->ipython-sql) (3.0.36)\n",
            "Requirement already satisfied: matplotlib-inline in c:\\users\\m s i\\anaconda3\\lib\\site-packages (from ipython->ipython-sql) (0.1.6)\n",
            "Requirement already satisfied: backcall in c:\\users\\m s i\\anaconda3\\lib\\site-packages (from ipython->ipython-sql) (0.2.0)\n",
            "Requirement already satisfied: traitlets>=5 in c:\\users\\m s i\\anaconda3\\lib\\site-packages (from ipython->ipython-sql) (5.7.1)\n",
            "Requirement already satisfied: jedi>=0.16 in c:\\users\\m s i\\anaconda3\\lib\\site-packages (from ipython->ipython-sql) (0.18.1)\n",
            "Requirement already satisfied: colorama in c:\\users\\m s i\\anaconda3\\lib\\site-packages (from ipython->ipython-sql) (0.4.6)\n",
            "Requirement already satisfied: pickleshare in c:\\users\\m s i\\anaconda3\\lib\\site-packages (from ipython->ipython-sql) (0.7.5)\n",
            "Requirement already satisfied: pygments>=2.4.0 in c:\\users\\m s i\\anaconda3\\lib\\site-packages (from ipython->ipython-sql) (2.11.2)\n",
            "Requirement already satisfied: decorator in c:\\users\\m s i\\anaconda3\\lib\\site-packages (from ipython->ipython-sql) (5.1.1)\n",
            "Requirement already satisfied: wcwidth in c:\\users\\m s i\\anaconda3\\lib\\site-packages (from prettytable->ipython-sql) (0.2.5)\n",
            "Requirement already satisfied: parso<0.9.0,>=0.8.0 in c:\\users\\m s i\\anaconda3\\lib\\site-packages (from jedi>=0.16->ipython->ipython-sql) (0.8.3)\n",
            "Requirement already satisfied: pure-eval in c:\\users\\m s i\\anaconda3\\lib\\site-packages (from stack-data->ipython->ipython-sql) (0.2.2)\n",
            "Requirement already satisfied: asttokens in c:\\users\\m s i\\anaconda3\\lib\\site-packages (from stack-data->ipython->ipython-sql) (2.0.5)\n",
            "Requirement already satisfied: executing in c:\\users\\m s i\\anaconda3\\lib\\site-packages (from stack-data->ipython->ipython-sql) (0.8.3)\n",
            "Requirement already satisfied: mysqlclient in c:\\users\\m s i\\anaconda3\\lib\\site-packages (2.1.1)\n"
          ]
        }
      ],
      "source": [
        "! pip3 install pymysql\n",
        "! pip3 install ipython-sql\n",
        "! pip3 install mysqlclient"
      ]
    },
    {
      "cell_type": "markdown",
      "id": "a68c3598",
      "metadata": {
        "id": "a68c3598"
      },
      "source": [
        "# Koneksikan ke MySQL"
      ]
    },
    {
      "cell_type": "markdown",
      "id": "689e69a5",
      "metadata": {
        "id": "689e69a5"
      },
      "source": [
        "## Import Libraries"
      ]
    },
    {
      "cell_type": "code",
      "execution_count": null,
      "id": "0059ec93",
      "metadata": {
        "id": "0059ec93"
      },
      "outputs": [],
      "source": [
        "import os\n",
        "import pymysql\n",
        "import pandas as pd\n",
        "import mysql.connector"
      ]
    },
    {
      "cell_type": "markdown",
      "id": "a2e91a34",
      "metadata": {
        "id": "a2e91a34"
      },
      "source": [
        "## Inisiasi Attributes"
      ]
    },
    {
      "cell_type": "code",
      "execution_count": null,
      "id": "7a6e31c0",
      "metadata": {
        "id": "7a6e31c0"
      },
      "outputs": [],
      "source": [
        "db_name = \"cobatubeskel1\"\n",
        "db_host = \"localhost\"\n",
        "db_username = \"root\"\n",
        "db_password = \"\""
      ]
    },
    {
      "cell_type": "markdown",
      "id": "2ca3950a",
      "metadata": {
        "id": "2ca3950a"
      },
      "source": [
        "## Membuat Koneksi ke Database"
      ]
    },
    {
      "cell_type": "code",
      "execution_count": null,
      "id": "facdedce",
      "metadata": {
        "id": "facdedce",
        "outputId": "c7c32052-291a-49b5-e0e5-e19056840f20"
      },
      "outputs": [
        {
          "name": "stdout",
          "output_type": "stream",
          "text": [
            "Successfully Connected\n"
          ]
        }
      ],
      "source": [
        "try:\n",
        "    conn = pymysql.connect(host = db_host,\n",
        "                          port = int(3306),\n",
        "                          user = 'root',\n",
        "                          passwd = db_password,\n",
        "                          db = db_name)\n",
        "except e:\n",
        "    print(e)\n",
        "\n",
        "if conn:\n",
        "    print(\"Successfully Connected\")\n",
        "else:\n",
        "    print(\"Error\")"
      ]
    },
    {
      "cell_type": "markdown",
      "id": "dbc82dc5",
      "metadata": {
        "id": "dbc82dc5"
      },
      "source": [
        "## Mengaktifkan Database"
      ]
    },
    {
      "cell_type": "code",
      "execution_count": null,
      "id": "ade51537",
      "metadata": {
        "id": "ade51537",
        "outputId": "481cfb0c-4939-4390-eec9-4f231780cfa6"
      },
      "outputs": [
        {
          "name": "stdout",
          "output_type": "stream",
          "text": [
            " * mysql+mysqldb://root@localhost\n",
            "0 rows affected.\n"
          ]
        },
        {
          "data": {
            "text/plain": [
              "[]"
            ]
          },
          "execution_count": 11,
          "metadata": {},
          "output_type": "execute_result"
        }
      ],
      "source": [
        "%%sql\n",
        "\n",
        "USE cobatubeskel1;"
      ]
    },
    {
      "cell_type": "markdown",
      "id": "a68680cf",
      "metadata": {
        "id": "a68680cf"
      },
      "source": [
        "## Aktivasi Magic Function"
      ]
    },
    {
      "cell_type": "code",
      "execution_count": null,
      "id": "6056e576",
      "metadata": {
        "id": "6056e576"
      },
      "outputs": [],
      "source": [
        "%load_ext sql\n",
        "%sql mysql+mysqldb://root@localhost"
      ]
    },
    {
      "cell_type": "markdown",
      "id": "01c21908",
      "metadata": {
        "id": "01c21908"
      },
      "source": [
        "# Import Dataset"
      ]
    },
    {
      "cell_type": "code",
      "execution_count": null,
      "id": "98a43ad6",
      "metadata": {
        "scrolled": true,
        "id": "98a43ad6",
        "outputId": "a7378578-585b-4ff9-da97-89bad285b84d"
      },
      "outputs": [
        {
          "data": {
            "text/html": [
              "<div>\n",
              "<style scoped>\n",
              "    .dataframe tbody tr th:only-of-type {\n",
              "        vertical-align: middle;\n",
              "    }\n",
              "\n",
              "    .dataframe tbody tr th {\n",
              "        vertical-align: top;\n",
              "    }\n",
              "\n",
              "    .dataframe thead th {\n",
              "        text-align: right;\n",
              "    }\n",
              "</style>\n",
              "<table border=\"1\" class=\"dataframe\">\n",
              "  <thead>\n",
              "    <tr style=\"text-align: right;\">\n",
              "      <th></th>\n",
              "      <th>ID</th>\n",
              "      <th>Warehouse_block</th>\n",
              "      <th>Mode_of_Shipment</th>\n",
              "      <th>Customer_care_calls</th>\n",
              "      <th>Customer_rating</th>\n",
              "      <th>Cost_of_the_Product</th>\n",
              "      <th>Prior_purchases</th>\n",
              "      <th>Product_importance</th>\n",
              "      <th>Gender</th>\n",
              "      <th>Discount_offered</th>\n",
              "      <th>Weight_in_gms</th>\n",
              "      <th>Reached_on_Time_Y_N</th>\n",
              "    </tr>\n",
              "  </thead>\n",
              "  <tbody>\n",
              "    <tr>\n",
              "      <th>0</th>\n",
              "      <td>1</td>\n",
              "      <td>D</td>\n",
              "      <td>Flight</td>\n",
              "      <td>4</td>\n",
              "      <td>2</td>\n",
              "      <td>177</td>\n",
              "      <td>3</td>\n",
              "      <td>low</td>\n",
              "      <td>F</td>\n",
              "      <td>44</td>\n",
              "      <td>1233</td>\n",
              "      <td>1</td>\n",
              "    </tr>\n",
              "    <tr>\n",
              "      <th>1</th>\n",
              "      <td>2</td>\n",
              "      <td>F</td>\n",
              "      <td>Flight</td>\n",
              "      <td>4</td>\n",
              "      <td>5</td>\n",
              "      <td>216</td>\n",
              "      <td>2</td>\n",
              "      <td>low</td>\n",
              "      <td>M</td>\n",
              "      <td>59</td>\n",
              "      <td>3088</td>\n",
              "      <td>1</td>\n",
              "    </tr>\n",
              "    <tr>\n",
              "      <th>2</th>\n",
              "      <td>3</td>\n",
              "      <td>A</td>\n",
              "      <td>Flight</td>\n",
              "      <td>2</td>\n",
              "      <td>2</td>\n",
              "      <td>183</td>\n",
              "      <td>4</td>\n",
              "      <td>low</td>\n",
              "      <td>M</td>\n",
              "      <td>48</td>\n",
              "      <td>3374</td>\n",
              "      <td>1</td>\n",
              "    </tr>\n",
              "    <tr>\n",
              "      <th>3</th>\n",
              "      <td>4</td>\n",
              "      <td>B</td>\n",
              "      <td>Flight</td>\n",
              "      <td>3</td>\n",
              "      <td>3</td>\n",
              "      <td>176</td>\n",
              "      <td>4</td>\n",
              "      <td>medium</td>\n",
              "      <td>M</td>\n",
              "      <td>10</td>\n",
              "      <td>1177</td>\n",
              "      <td>1</td>\n",
              "    </tr>\n",
              "    <tr>\n",
              "      <th>4</th>\n",
              "      <td>5</td>\n",
              "      <td>C</td>\n",
              "      <td>Flight</td>\n",
              "      <td>2</td>\n",
              "      <td>2</td>\n",
              "      <td>184</td>\n",
              "      <td>3</td>\n",
              "      <td>medium</td>\n",
              "      <td>F</td>\n",
              "      <td>46</td>\n",
              "      <td>2484</td>\n",
              "      <td>1</td>\n",
              "    </tr>\n",
              "    <tr>\n",
              "      <th>...</th>\n",
              "      <td>...</td>\n",
              "      <td>...</td>\n",
              "      <td>...</td>\n",
              "      <td>...</td>\n",
              "      <td>...</td>\n",
              "      <td>...</td>\n",
              "      <td>...</td>\n",
              "      <td>...</td>\n",
              "      <td>...</td>\n",
              "      <td>...</td>\n",
              "      <td>...</td>\n",
              "      <td>...</td>\n",
              "    </tr>\n",
              "    <tr>\n",
              "      <th>10994</th>\n",
              "      <td>10995</td>\n",
              "      <td>A</td>\n",
              "      <td>Ship</td>\n",
              "      <td>4</td>\n",
              "      <td>1</td>\n",
              "      <td>252</td>\n",
              "      <td>5</td>\n",
              "      <td>medium</td>\n",
              "      <td>F</td>\n",
              "      <td>1</td>\n",
              "      <td>1538</td>\n",
              "      <td>1</td>\n",
              "    </tr>\n",
              "    <tr>\n",
              "      <th>10995</th>\n",
              "      <td>10996</td>\n",
              "      <td>B</td>\n",
              "      <td>Ship</td>\n",
              "      <td>4</td>\n",
              "      <td>1</td>\n",
              "      <td>232</td>\n",
              "      <td>5</td>\n",
              "      <td>medium</td>\n",
              "      <td>F</td>\n",
              "      <td>6</td>\n",
              "      <td>1247</td>\n",
              "      <td>0</td>\n",
              "    </tr>\n",
              "    <tr>\n",
              "      <th>10996</th>\n",
              "      <td>10997</td>\n",
              "      <td>C</td>\n",
              "      <td>Ship</td>\n",
              "      <td>5</td>\n",
              "      <td>4</td>\n",
              "      <td>242</td>\n",
              "      <td>5</td>\n",
              "      <td>low</td>\n",
              "      <td>F</td>\n",
              "      <td>4</td>\n",
              "      <td>1155</td>\n",
              "      <td>0</td>\n",
              "    </tr>\n",
              "    <tr>\n",
              "      <th>10997</th>\n",
              "      <td>10998</td>\n",
              "      <td>F</td>\n",
              "      <td>Ship</td>\n",
              "      <td>5</td>\n",
              "      <td>2</td>\n",
              "      <td>223</td>\n",
              "      <td>6</td>\n",
              "      <td>medium</td>\n",
              "      <td>M</td>\n",
              "      <td>2</td>\n",
              "      <td>1210</td>\n",
              "      <td>0</td>\n",
              "    </tr>\n",
              "    <tr>\n",
              "      <th>10998</th>\n",
              "      <td>10999</td>\n",
              "      <td>D</td>\n",
              "      <td>Ship</td>\n",
              "      <td>2</td>\n",
              "      <td>5</td>\n",
              "      <td>155</td>\n",
              "      <td>5</td>\n",
              "      <td>low</td>\n",
              "      <td>F</td>\n",
              "      <td>6</td>\n",
              "      <td>1639</td>\n",
              "      <td>0</td>\n",
              "    </tr>\n",
              "  </tbody>\n",
              "</table>\n",
              "<p>10999 rows × 12 columns</p>\n",
              "</div>"
            ],
            "text/plain": [
              "          ID Warehouse_block Mode_of_Shipment  Customer_care_calls  \\\n",
              "0          1               D           Flight                    4   \n",
              "1          2               F           Flight                    4   \n",
              "2          3               A           Flight                    2   \n",
              "3          4               B           Flight                    3   \n",
              "4          5               C           Flight                    2   \n",
              "...      ...             ...              ...                  ...   \n",
              "10994  10995               A             Ship                    4   \n",
              "10995  10996               B             Ship                    4   \n",
              "10996  10997               C             Ship                    5   \n",
              "10997  10998               F             Ship                    5   \n",
              "10998  10999               D             Ship                    2   \n",
              "\n",
              "       Customer_rating  Cost_of_the_Product  Prior_purchases  \\\n",
              "0                    2                  177                3   \n",
              "1                    5                  216                2   \n",
              "2                    2                  183                4   \n",
              "3                    3                  176                4   \n",
              "4                    2                  184                3   \n",
              "...                ...                  ...              ...   \n",
              "10994                1                  252                5   \n",
              "10995                1                  232                5   \n",
              "10996                4                  242                5   \n",
              "10997                2                  223                6   \n",
              "10998                5                  155                5   \n",
              "\n",
              "      Product_importance Gender  Discount_offered  Weight_in_gms  \\\n",
              "0                    low      F                44           1233   \n",
              "1                    low      M                59           3088   \n",
              "2                    low      M                48           3374   \n",
              "3                 medium      M                10           1177   \n",
              "4                 medium      F                46           2484   \n",
              "...                  ...    ...               ...            ...   \n",
              "10994             medium      F                 1           1538   \n",
              "10995             medium      F                 6           1247   \n",
              "10996                low      F                 4           1155   \n",
              "10997             medium      M                 2           1210   \n",
              "10998                low      F                 6           1639   \n",
              "\n",
              "       Reached_on_Time_Y_N  \n",
              "0                        1  \n",
              "1                        1  \n",
              "2                        1  \n",
              "3                        1  \n",
              "4                        1  \n",
              "...                    ...  \n",
              "10994                    1  \n",
              "10995                    0  \n",
              "10996                    0  \n",
              "10997                    0  \n",
              "10998                    0  \n",
              "\n",
              "[10999 rows x 12 columns]"
            ]
          },
          "execution_count": 9,
          "metadata": {},
          "output_type": "execute_result"
        }
      ],
      "source": [
        "dataset = pd.read_csv(\"C:/Users/M S I/Downloads/archive (4)/Train.csv\")\n",
        "dataset"
      ]
    },
    {
      "cell_type": "markdown",
      "id": "b82d0716",
      "metadata": {
        "id": "b82d0716"
      },
      "source": [
        "# Lakukan Normalisasi 2NF"
      ]
    },
    {
      "cell_type": "code",
      "execution_count": null,
      "id": "7b9a8cdb",
      "metadata": {
        "scrolled": true,
        "id": "7b9a8cdb",
        "outputId": "baf55ae2-ad32-435c-a3eb-fd4cddf766d0"
      },
      "outputs": [
        {
          "data": {
            "text/html": [
              "<div>\n",
              "<style scoped>\n",
              "    .dataframe tbody tr th:only-of-type {\n",
              "        vertical-align: middle;\n",
              "    }\n",
              "\n",
              "    .dataframe tbody tr th {\n",
              "        vertical-align: top;\n",
              "    }\n",
              "\n",
              "    .dataframe thead th {\n",
              "        text-align: right;\n",
              "    }\n",
              "</style>\n",
              "<table border=\"1\" class=\"dataframe\">\n",
              "  <thead>\n",
              "    <tr style=\"text-align: right;\">\n",
              "      <th></th>\n",
              "      <th>ID</th>\n",
              "      <th>Warehouse_block</th>\n",
              "    </tr>\n",
              "  </thead>\n",
              "  <tbody>\n",
              "    <tr>\n",
              "      <th>0</th>\n",
              "      <td>1</td>\n",
              "      <td>D</td>\n",
              "    </tr>\n",
              "    <tr>\n",
              "      <th>1</th>\n",
              "      <td>2</td>\n",
              "      <td>F</td>\n",
              "    </tr>\n",
              "    <tr>\n",
              "      <th>2</th>\n",
              "      <td>3</td>\n",
              "      <td>A</td>\n",
              "    </tr>\n",
              "    <tr>\n",
              "      <th>3</th>\n",
              "      <td>4</td>\n",
              "      <td>B</td>\n",
              "    </tr>\n",
              "    <tr>\n",
              "      <th>4</th>\n",
              "      <td>5</td>\n",
              "      <td>C</td>\n",
              "    </tr>\n",
              "    <tr>\n",
              "      <th>...</th>\n",
              "      <td>...</td>\n",
              "      <td>...</td>\n",
              "    </tr>\n",
              "    <tr>\n",
              "      <th>10994</th>\n",
              "      <td>10995</td>\n",
              "      <td>A</td>\n",
              "    </tr>\n",
              "    <tr>\n",
              "      <th>10995</th>\n",
              "      <td>10996</td>\n",
              "      <td>B</td>\n",
              "    </tr>\n",
              "    <tr>\n",
              "      <th>10996</th>\n",
              "      <td>10997</td>\n",
              "      <td>C</td>\n",
              "    </tr>\n",
              "    <tr>\n",
              "      <th>10997</th>\n",
              "      <td>10998</td>\n",
              "      <td>F</td>\n",
              "    </tr>\n",
              "    <tr>\n",
              "      <th>10998</th>\n",
              "      <td>10999</td>\n",
              "      <td>D</td>\n",
              "    </tr>\n",
              "  </tbody>\n",
              "</table>\n",
              "<p>10999 rows × 2 columns</p>\n",
              "</div>"
            ],
            "text/plain": [
              "          ID Warehouse_block\n",
              "0          1               D\n",
              "1          2               F\n",
              "2          3               A\n",
              "3          4               B\n",
              "4          5               C\n",
              "...      ...             ...\n",
              "10994  10995               A\n",
              "10995  10996               B\n",
              "10996  10997               C\n",
              "10997  10998               F\n",
              "10998  10999               D\n",
              "\n",
              "[10999 rows x 2 columns]"
            ]
          },
          "execution_count": 26,
          "metadata": {},
          "output_type": "execute_result"
        }
      ],
      "source": [
        "Warehouse = dataset[['ID', 'Warehouse_block']]\n",
        "Warehouse"
      ]
    },
    {
      "cell_type": "code",
      "execution_count": null,
      "id": "8ac12ea2",
      "metadata": {
        "scrolled": true,
        "id": "8ac12ea2",
        "outputId": "024c3acd-304f-4afd-b62f-afff3b2098a5"
      },
      "outputs": [
        {
          "data": {
            "text/html": [
              "<div>\n",
              "<style scoped>\n",
              "    .dataframe tbody tr th:only-of-type {\n",
              "        vertical-align: middle;\n",
              "    }\n",
              "\n",
              "    .dataframe tbody tr th {\n",
              "        vertical-align: top;\n",
              "    }\n",
              "\n",
              "    .dataframe thead th {\n",
              "        text-align: right;\n",
              "    }\n",
              "</style>\n",
              "<table border=\"1\" class=\"dataframe\">\n",
              "  <thead>\n",
              "    <tr style=\"text-align: right;\">\n",
              "      <th></th>\n",
              "      <th>ID</th>\n",
              "      <th>Mode_of_Shipment</th>\n",
              "    </tr>\n",
              "  </thead>\n",
              "  <tbody>\n",
              "    <tr>\n",
              "      <th>0</th>\n",
              "      <td>1</td>\n",
              "      <td>Flight</td>\n",
              "    </tr>\n",
              "    <tr>\n",
              "      <th>1</th>\n",
              "      <td>2</td>\n",
              "      <td>Flight</td>\n",
              "    </tr>\n",
              "    <tr>\n",
              "      <th>2</th>\n",
              "      <td>3</td>\n",
              "      <td>Flight</td>\n",
              "    </tr>\n",
              "    <tr>\n",
              "      <th>3</th>\n",
              "      <td>4</td>\n",
              "      <td>Flight</td>\n",
              "    </tr>\n",
              "    <tr>\n",
              "      <th>4</th>\n",
              "      <td>5</td>\n",
              "      <td>Flight</td>\n",
              "    </tr>\n",
              "    <tr>\n",
              "      <th>...</th>\n",
              "      <td>...</td>\n",
              "      <td>...</td>\n",
              "    </tr>\n",
              "    <tr>\n",
              "      <th>10994</th>\n",
              "      <td>10995</td>\n",
              "      <td>Ship</td>\n",
              "    </tr>\n",
              "    <tr>\n",
              "      <th>10995</th>\n",
              "      <td>10996</td>\n",
              "      <td>Ship</td>\n",
              "    </tr>\n",
              "    <tr>\n",
              "      <th>10996</th>\n",
              "      <td>10997</td>\n",
              "      <td>Ship</td>\n",
              "    </tr>\n",
              "    <tr>\n",
              "      <th>10997</th>\n",
              "      <td>10998</td>\n",
              "      <td>Ship</td>\n",
              "    </tr>\n",
              "    <tr>\n",
              "      <th>10998</th>\n",
              "      <td>10999</td>\n",
              "      <td>Ship</td>\n",
              "    </tr>\n",
              "  </tbody>\n",
              "</table>\n",
              "<p>10999 rows × 2 columns</p>\n",
              "</div>"
            ],
            "text/plain": [
              "          ID Mode_of_Shipment\n",
              "0          1           Flight\n",
              "1          2           Flight\n",
              "2          3           Flight\n",
              "3          4           Flight\n",
              "4          5           Flight\n",
              "...      ...              ...\n",
              "10994  10995             Ship\n",
              "10995  10996             Ship\n",
              "10996  10997             Ship\n",
              "10997  10998             Ship\n",
              "10998  10999             Ship\n",
              "\n",
              "[10999 rows x 2 columns]"
            ]
          },
          "execution_count": 27,
          "metadata": {},
          "output_type": "execute_result"
        }
      ],
      "source": [
        "Shipment_Mode = dataset[['ID', 'Mode_of_Shipment']]\n",
        "Shipment_Mode"
      ]
    },
    {
      "cell_type": "code",
      "execution_count": null,
      "id": "c3dc35d0",
      "metadata": {
        "id": "c3dc35d0",
        "outputId": "3f8fc12d-9e9d-43d5-a949-f3e7cb73122c"
      },
      "outputs": [
        {
          "data": {
            "text/html": [
              "<div>\n",
              "<style scoped>\n",
              "    .dataframe tbody tr th:only-of-type {\n",
              "        vertical-align: middle;\n",
              "    }\n",
              "\n",
              "    .dataframe tbody tr th {\n",
              "        vertical-align: top;\n",
              "    }\n",
              "\n",
              "    .dataframe thead th {\n",
              "        text-align: right;\n",
              "    }\n",
              "</style>\n",
              "<table border=\"1\" class=\"dataframe\">\n",
              "  <thead>\n",
              "    <tr style=\"text-align: right;\">\n",
              "      <th></th>\n",
              "      <th>ID</th>\n",
              "      <th>Customer_care_calls</th>\n",
              "      <th>Customer_rating</th>\n",
              "      <th>Prior_purchases</th>\n",
              "      <th>Product_importance</th>\n",
              "      <th>Gender</th>\n",
              "    </tr>\n",
              "  </thead>\n",
              "  <tbody>\n",
              "    <tr>\n",
              "      <th>0</th>\n",
              "      <td>1</td>\n",
              "      <td>4</td>\n",
              "      <td>2</td>\n",
              "      <td>3</td>\n",
              "      <td>low</td>\n",
              "      <td>F</td>\n",
              "    </tr>\n",
              "    <tr>\n",
              "      <th>1</th>\n",
              "      <td>2</td>\n",
              "      <td>4</td>\n",
              "      <td>5</td>\n",
              "      <td>2</td>\n",
              "      <td>low</td>\n",
              "      <td>M</td>\n",
              "    </tr>\n",
              "    <tr>\n",
              "      <th>2</th>\n",
              "      <td>3</td>\n",
              "      <td>2</td>\n",
              "      <td>2</td>\n",
              "      <td>4</td>\n",
              "      <td>low</td>\n",
              "      <td>M</td>\n",
              "    </tr>\n",
              "    <tr>\n",
              "      <th>3</th>\n",
              "      <td>4</td>\n",
              "      <td>3</td>\n",
              "      <td>3</td>\n",
              "      <td>4</td>\n",
              "      <td>medium</td>\n",
              "      <td>M</td>\n",
              "    </tr>\n",
              "    <tr>\n",
              "      <th>4</th>\n",
              "      <td>5</td>\n",
              "      <td>2</td>\n",
              "      <td>2</td>\n",
              "      <td>3</td>\n",
              "      <td>medium</td>\n",
              "      <td>F</td>\n",
              "    </tr>\n",
              "    <tr>\n",
              "      <th>...</th>\n",
              "      <td>...</td>\n",
              "      <td>...</td>\n",
              "      <td>...</td>\n",
              "      <td>...</td>\n",
              "      <td>...</td>\n",
              "      <td>...</td>\n",
              "    </tr>\n",
              "    <tr>\n",
              "      <th>10994</th>\n",
              "      <td>10995</td>\n",
              "      <td>4</td>\n",
              "      <td>1</td>\n",
              "      <td>5</td>\n",
              "      <td>medium</td>\n",
              "      <td>F</td>\n",
              "    </tr>\n",
              "    <tr>\n",
              "      <th>10995</th>\n",
              "      <td>10996</td>\n",
              "      <td>4</td>\n",
              "      <td>1</td>\n",
              "      <td>5</td>\n",
              "      <td>medium</td>\n",
              "      <td>F</td>\n",
              "    </tr>\n",
              "    <tr>\n",
              "      <th>10996</th>\n",
              "      <td>10997</td>\n",
              "      <td>5</td>\n",
              "      <td>4</td>\n",
              "      <td>5</td>\n",
              "      <td>low</td>\n",
              "      <td>F</td>\n",
              "    </tr>\n",
              "    <tr>\n",
              "      <th>10997</th>\n",
              "      <td>10998</td>\n",
              "      <td>5</td>\n",
              "      <td>2</td>\n",
              "      <td>6</td>\n",
              "      <td>medium</td>\n",
              "      <td>M</td>\n",
              "    </tr>\n",
              "    <tr>\n",
              "      <th>10998</th>\n",
              "      <td>10999</td>\n",
              "      <td>2</td>\n",
              "      <td>5</td>\n",
              "      <td>5</td>\n",
              "      <td>low</td>\n",
              "      <td>F</td>\n",
              "    </tr>\n",
              "  </tbody>\n",
              "</table>\n",
              "<p>10999 rows × 6 columns</p>\n",
              "</div>"
            ],
            "text/plain": [
              "          ID  Customer_care_calls  Customer_rating  Prior_purchases  \\\n",
              "0          1                    4                2                3   \n",
              "1          2                    4                5                2   \n",
              "2          3                    2                2                4   \n",
              "3          4                    3                3                4   \n",
              "4          5                    2                2                3   \n",
              "...      ...                  ...              ...              ...   \n",
              "10994  10995                    4                1                5   \n",
              "10995  10996                    4                1                5   \n",
              "10996  10997                    5                4                5   \n",
              "10997  10998                    5                2                6   \n",
              "10998  10999                    2                5                5   \n",
              "\n",
              "      Product_importance Gender  \n",
              "0                    low      F  \n",
              "1                    low      M  \n",
              "2                    low      M  \n",
              "3                 medium      M  \n",
              "4                 medium      F  \n",
              "...                  ...    ...  \n",
              "10994             medium      F  \n",
              "10995             medium      F  \n",
              "10996                low      F  \n",
              "10997             medium      M  \n",
              "10998                low      F  \n",
              "\n",
              "[10999 rows x 6 columns]"
            ]
          },
          "execution_count": 95,
          "metadata": {},
          "output_type": "execute_result"
        }
      ],
      "source": [
        "Customer = dataset[['ID', 'Customer_care_calls', 'Customer_rating', 'Prior_purchases', 'Product_importance', 'Gender']]\n",
        "Customer"
      ]
    },
    {
      "cell_type": "code",
      "execution_count": null,
      "id": "33c53b6d",
      "metadata": {
        "id": "33c53b6d",
        "outputId": "fe973bce-98c3-47a7-8fd4-e2b0eb1d5d0b"
      },
      "outputs": [
        {
          "data": {
            "text/html": [
              "<div>\n",
              "<style scoped>\n",
              "    .dataframe tbody tr th:only-of-type {\n",
              "        vertical-align: middle;\n",
              "    }\n",
              "\n",
              "    .dataframe tbody tr th {\n",
              "        vertical-align: top;\n",
              "    }\n",
              "\n",
              "    .dataframe thead th {\n",
              "        text-align: right;\n",
              "    }\n",
              "</style>\n",
              "<table border=\"1\" class=\"dataframe\">\n",
              "  <thead>\n",
              "    <tr style=\"text-align: right;\">\n",
              "      <th></th>\n",
              "      <th>ID</th>\n",
              "      <th>Cost_of_the_Product</th>\n",
              "      <th>Discount_offered</th>\n",
              "      <th>Weight_in_gms</th>\n",
              "      <th>Reached_on_Time_Y_N</th>\n",
              "    </tr>\n",
              "  </thead>\n",
              "  <tbody>\n",
              "    <tr>\n",
              "      <th>0</th>\n",
              "      <td>1</td>\n",
              "      <td>177</td>\n",
              "      <td>44</td>\n",
              "      <td>1233</td>\n",
              "      <td>1</td>\n",
              "    </tr>\n",
              "    <tr>\n",
              "      <th>1</th>\n",
              "      <td>2</td>\n",
              "      <td>216</td>\n",
              "      <td>59</td>\n",
              "      <td>3088</td>\n",
              "      <td>1</td>\n",
              "    </tr>\n",
              "    <tr>\n",
              "      <th>2</th>\n",
              "      <td>3</td>\n",
              "      <td>183</td>\n",
              "      <td>48</td>\n",
              "      <td>3374</td>\n",
              "      <td>1</td>\n",
              "    </tr>\n",
              "    <tr>\n",
              "      <th>3</th>\n",
              "      <td>4</td>\n",
              "      <td>176</td>\n",
              "      <td>10</td>\n",
              "      <td>1177</td>\n",
              "      <td>1</td>\n",
              "    </tr>\n",
              "    <tr>\n",
              "      <th>4</th>\n",
              "      <td>5</td>\n",
              "      <td>184</td>\n",
              "      <td>46</td>\n",
              "      <td>2484</td>\n",
              "      <td>1</td>\n",
              "    </tr>\n",
              "    <tr>\n",
              "      <th>...</th>\n",
              "      <td>...</td>\n",
              "      <td>...</td>\n",
              "      <td>...</td>\n",
              "      <td>...</td>\n",
              "      <td>...</td>\n",
              "    </tr>\n",
              "    <tr>\n",
              "      <th>10994</th>\n",
              "      <td>10995</td>\n",
              "      <td>252</td>\n",
              "      <td>1</td>\n",
              "      <td>1538</td>\n",
              "      <td>1</td>\n",
              "    </tr>\n",
              "    <tr>\n",
              "      <th>10995</th>\n",
              "      <td>10996</td>\n",
              "      <td>232</td>\n",
              "      <td>6</td>\n",
              "      <td>1247</td>\n",
              "      <td>0</td>\n",
              "    </tr>\n",
              "    <tr>\n",
              "      <th>10996</th>\n",
              "      <td>10997</td>\n",
              "      <td>242</td>\n",
              "      <td>4</td>\n",
              "      <td>1155</td>\n",
              "      <td>0</td>\n",
              "    </tr>\n",
              "    <tr>\n",
              "      <th>10997</th>\n",
              "      <td>10998</td>\n",
              "      <td>223</td>\n",
              "      <td>2</td>\n",
              "      <td>1210</td>\n",
              "      <td>0</td>\n",
              "    </tr>\n",
              "    <tr>\n",
              "      <th>10998</th>\n",
              "      <td>10999</td>\n",
              "      <td>155</td>\n",
              "      <td>6</td>\n",
              "      <td>1639</td>\n",
              "      <td>0</td>\n",
              "    </tr>\n",
              "  </tbody>\n",
              "</table>\n",
              "<p>10999 rows × 5 columns</p>\n",
              "</div>"
            ],
            "text/plain": [
              "          ID  Cost_of_the_Product  Discount_offered  Weight_in_gms  \\\n",
              "0          1                  177                44           1233   \n",
              "1          2                  216                59           3088   \n",
              "2          3                  183                48           3374   \n",
              "3          4                  176                10           1177   \n",
              "4          5                  184                46           2484   \n",
              "...      ...                  ...               ...            ...   \n",
              "10994  10995                  252                 1           1538   \n",
              "10995  10996                  232                 6           1247   \n",
              "10996  10997                  242                 4           1155   \n",
              "10997  10998                  223                 2           1210   \n",
              "10998  10999                  155                 6           1639   \n",
              "\n",
              "       Reached_on_Time_Y_N  \n",
              "0                        1  \n",
              "1                        1  \n",
              "2                        1  \n",
              "3                        1  \n",
              "4                        1  \n",
              "...                    ...  \n",
              "10994                    1  \n",
              "10995                    0  \n",
              "10996                    0  \n",
              "10997                    0  \n",
              "10998                    0  \n",
              "\n",
              "[10999 rows x 5 columns]"
            ]
          },
          "execution_count": 64,
          "metadata": {},
          "output_type": "execute_result"
        }
      ],
      "source": [
        "Product = dataset[['ID', 'Cost_of_the_Product', 'Discount_offered', 'Weight_in_gms', 'Reached_on_Time_Y_N']]\n",
        "Product"
      ]
    },
    {
      "cell_type": "markdown",
      "id": "d09ae904",
      "metadata": {
        "id": "d09ae904"
      },
      "source": [
        "# Implementasi Syntax DDL dan DML"
      ]
    },
    {
      "cell_type": "markdown",
      "id": "7bf8ea60",
      "metadata": {
        "id": "7bf8ea60"
      },
      "source": [
        "## A. Data Definition Language (DDL)"
      ]
    },
    {
      "cell_type": "markdown",
      "id": "64ae00e4",
      "metadata": {
        "id": "64ae00e4"
      },
      "source": [
        "### DDL untuk Database"
      ]
    },
    {
      "cell_type": "markdown",
      "id": "6bdfc35d",
      "metadata": {
        "id": "6bdfc35d"
      },
      "source": [
        "#### Membuat Database"
      ]
    },
    {
      "cell_type": "code",
      "execution_count": null,
      "id": "ad0290e5",
      "metadata": {
        "id": "ad0290e5",
        "outputId": "8cd4784e-ac07-4fd7-afec-41cf14fe79af"
      },
      "outputs": [
        {
          "name": "stdout",
          "output_type": "stream",
          "text": [
            " * mysql+mysqldb://root@localhost\n",
            "(MySQLdb.ProgrammingError) (1007, \"Can't create database 'databasetubes'; database exists\")\n",
            "[SQL: CREATE DATABASE databasetubes;]\n",
            "(Background on this error at: https://sqlalche.me/e/20/f405)\n"
          ]
        }
      ],
      "source": [
        "%%sql\n",
        "\n",
        "CREATE DATABASE databasetubes;"
      ]
    },
    {
      "cell_type": "markdown",
      "id": "ac4ba221",
      "metadata": {
        "id": "ac4ba221"
      },
      "source": [
        "#### Mengaktifkan Database"
      ]
    },
    {
      "cell_type": "code",
      "execution_count": null,
      "id": "290e836a",
      "metadata": {
        "id": "290e836a",
        "outputId": "f2e7a8ef-11e8-4208-c55f-0cda25c2b5eb"
      },
      "outputs": [
        {
          "name": "stdout",
          "output_type": "stream",
          "text": [
            " * mysql+mysqldb://root@localhost\n",
            "0 rows affected.\n"
          ]
        },
        {
          "data": {
            "text/plain": [
              "[]"
            ]
          },
          "execution_count": 32,
          "metadata": {},
          "output_type": "execute_result"
        }
      ],
      "source": [
        "%%sql\n",
        "\n",
        "USE databasetubes;"
      ]
    },
    {
      "cell_type": "markdown",
      "id": "030ed7dc",
      "metadata": {
        "id": "030ed7dc"
      },
      "source": [
        "### DDL untuk Table"
      ]
    },
    {
      "cell_type": "markdown",
      "id": "81597ef2",
      "metadata": {
        "id": "81597ef2"
      },
      "source": [
        "#### Tabel Warehouse"
      ]
    },
    {
      "cell_type": "markdown",
      "id": "b0696c63",
      "metadata": {
        "id": "b0696c63"
      },
      "source": [
        "##### Membuat Tabel"
      ]
    },
    {
      "cell_type": "code",
      "execution_count": null,
      "id": "35426323",
      "metadata": {
        "id": "35426323",
        "outputId": "8fd9ed38-c7d9-461b-c2c9-ff8a0f092760"
      },
      "outputs": [
        {
          "name": "stdout",
          "output_type": "stream",
          "text": [
            " * mysql+mysqldb://root@localhost\n",
            "0 rows affected.\n"
          ]
        },
        {
          "data": {
            "text/plain": [
              "[]"
            ]
          },
          "execution_count": 33,
          "metadata": {},
          "output_type": "execute_result"
        }
      ],
      "source": [
        "%%sql\n",
        "\n",
        "CREATE TABLE Warehouse(\n",
        "ID INT,\n",
        "Warehouse_block VARCHAR(1)\n",
        ");"
      ]
    },
    {
      "cell_type": "markdown",
      "id": "c2117438",
      "metadata": {
        "id": "c2117438"
      },
      "source": [
        "##### Menambahkan Primary Key"
      ]
    },
    {
      "cell_type": "code",
      "execution_count": null,
      "id": "f628e74a",
      "metadata": {
        "id": "f628e74a",
        "outputId": "3ec306f1-f70f-484c-fe65-95392f516e61"
      },
      "outputs": [
        {
          "name": "stdout",
          "output_type": "stream",
          "text": [
            " * mysql+mysqldb://root@localhost\n",
            "0 rows affected.\n"
          ]
        },
        {
          "data": {
            "text/plain": [
              "[]"
            ]
          },
          "execution_count": 34,
          "metadata": {},
          "output_type": "execute_result"
        }
      ],
      "source": [
        "%%sql\n",
        "\n",
        "ALTER TABLE Warehouse\n",
        "ADD PRIMARY KEY(ID);"
      ]
    },
    {
      "cell_type": "markdown",
      "id": "349fafd0",
      "metadata": {
        "id": "349fafd0"
      },
      "source": [
        "##### Menampilkan Struktur Tabel"
      ]
    },
    {
      "cell_type": "code",
      "execution_count": null,
      "id": "4b7bbccb",
      "metadata": {
        "id": "4b7bbccb",
        "outputId": "8b19ed99-7d2f-4c27-a908-32efb746b370"
      },
      "outputs": [
        {
          "name": "stdout",
          "output_type": "stream",
          "text": [
            " * mysql+mysqldb://root@localhost\n",
            "2 rows affected.\n"
          ]
        },
        {
          "data": {
            "text/html": [
              "<table>\n",
              "    <thead>\n",
              "        <tr>\n",
              "            <th>Field</th>\n",
              "            <th>Type</th>\n",
              "            <th>Null</th>\n",
              "            <th>Key</th>\n",
              "            <th>Default</th>\n",
              "            <th>Extra</th>\n",
              "        </tr>\n",
              "    </thead>\n",
              "    <tbody>\n",
              "        <tr>\n",
              "            <td>ID</td>\n",
              "            <td>int(11)</td>\n",
              "            <td>NO</td>\n",
              "            <td>PRI</td>\n",
              "            <td>None</td>\n",
              "            <td></td>\n",
              "        </tr>\n",
              "        <tr>\n",
              "            <td>Warehouse_block</td>\n",
              "            <td>varchar(1)</td>\n",
              "            <td>YES</td>\n",
              "            <td></td>\n",
              "            <td>None</td>\n",
              "            <td></td>\n",
              "        </tr>\n",
              "    </tbody>\n",
              "</table>"
            ],
            "text/plain": [
              "[('ID', 'int(11)', 'NO', 'PRI', None, ''),\n",
              " ('Warehouse_block', 'varchar(1)', 'YES', '', None, '')]"
            ]
          },
          "execution_count": 35,
          "metadata": {},
          "output_type": "execute_result"
        }
      ],
      "source": [
        "%%sql\n",
        "\n",
        "DESC Warehouse;"
      ]
    },
    {
      "cell_type": "markdown",
      "id": "506149fc",
      "metadata": {
        "id": "506149fc"
      },
      "source": [
        "##### Memasukkan Record ke Tabel"
      ]
    },
    {
      "cell_type": "code",
      "execution_count": null,
      "id": "a3d93cdb",
      "metadata": {
        "id": "a3d93cdb",
        "outputId": "43e63451-dc7f-4c83-b9db-78d5d1831c6a"
      },
      "outputs": [
        {
          "name": "stdout",
          "output_type": "stream",
          "text": [
            " * mysql+mysqldb://root@localhost\n",
            "30 rows affected.\n"
          ]
        },
        {
          "data": {
            "text/plain": [
              "[]"
            ]
          },
          "execution_count": 36,
          "metadata": {},
          "output_type": "execute_result"
        }
      ],
      "source": [
        "%%sql\n",
        "\n",
        "INSERT INTO Warehouse(ID, Warehouse_block)\n",
        "VALUES\n",
        "    (1, 'D'),\n",
        "    (2, 'F'),\n",
        "    (3, 'A'),\n",
        "    (4, 'B'),\n",
        "    (5, 'C'),\n",
        "    (6, 'F'),\n",
        "    (7, 'D'),\n",
        "    (8, 'F'),\n",
        "    (9, 'A'),\n",
        "    (10, 'B'),\n",
        "    (11, 'C'),\n",
        "    (12, 'F'),\n",
        "    (13, 'D'),\n",
        "    (14, 'F'),\n",
        "    (15, 'A'),\n",
        "    (16, 'B'),\n",
        "    (17, 'C'),\n",
        "    (18, 'F'),\n",
        "    (19, 'D'),\n",
        "    (20, 'F'),\n",
        "    (21, 'A'),\n",
        "    (22, 'B'),\n",
        "    (23, 'C'),\n",
        "    (24, 'F'),\n",
        "    (25, 'D'),\n",
        "    (26, 'F'),\n",
        "    (27, 'A'),\n",
        "    (28, 'B'),\n",
        "    (29, 'C'),\n",
        "    (30, 'F');"
      ]
    },
    {
      "cell_type": "markdown",
      "id": "2d7d22ee",
      "metadata": {
        "id": "2d7d22ee"
      },
      "source": [
        "##### Menampilkan Record pada Tabel"
      ]
    },
    {
      "cell_type": "code",
      "execution_count": null,
      "id": "3d3de642",
      "metadata": {
        "id": "3d3de642",
        "outputId": "8a89e700-048e-44d0-df86-1394b1e7582f"
      },
      "outputs": [
        {
          "name": "stdout",
          "output_type": "stream",
          "text": [
            " * mysql+mysqldb://root@localhost\n",
            "30 rows affected.\n"
          ]
        },
        {
          "data": {
            "text/html": [
              "<table>\n",
              "    <thead>\n",
              "        <tr>\n",
              "            <th>ID</th>\n",
              "            <th>Warehouse_block</th>\n",
              "        </tr>\n",
              "    </thead>\n",
              "    <tbody>\n",
              "        <tr>\n",
              "            <td>1</td>\n",
              "            <td>D</td>\n",
              "        </tr>\n",
              "        <tr>\n",
              "            <td>2</td>\n",
              "            <td>F</td>\n",
              "        </tr>\n",
              "        <tr>\n",
              "            <td>3</td>\n",
              "            <td>A</td>\n",
              "        </tr>\n",
              "        <tr>\n",
              "            <td>4</td>\n",
              "            <td>B</td>\n",
              "        </tr>\n",
              "        <tr>\n",
              "            <td>5</td>\n",
              "            <td>C</td>\n",
              "        </tr>\n",
              "        <tr>\n",
              "            <td>6</td>\n",
              "            <td>F</td>\n",
              "        </tr>\n",
              "        <tr>\n",
              "            <td>7</td>\n",
              "            <td>D</td>\n",
              "        </tr>\n",
              "        <tr>\n",
              "            <td>8</td>\n",
              "            <td>F</td>\n",
              "        </tr>\n",
              "        <tr>\n",
              "            <td>9</td>\n",
              "            <td>A</td>\n",
              "        </tr>\n",
              "        <tr>\n",
              "            <td>10</td>\n",
              "            <td>B</td>\n",
              "        </tr>\n",
              "        <tr>\n",
              "            <td>11</td>\n",
              "            <td>C</td>\n",
              "        </tr>\n",
              "        <tr>\n",
              "            <td>12</td>\n",
              "            <td>F</td>\n",
              "        </tr>\n",
              "        <tr>\n",
              "            <td>13</td>\n",
              "            <td>D</td>\n",
              "        </tr>\n",
              "        <tr>\n",
              "            <td>14</td>\n",
              "            <td>F</td>\n",
              "        </tr>\n",
              "        <tr>\n",
              "            <td>15</td>\n",
              "            <td>A</td>\n",
              "        </tr>\n",
              "        <tr>\n",
              "            <td>16</td>\n",
              "            <td>B</td>\n",
              "        </tr>\n",
              "        <tr>\n",
              "            <td>17</td>\n",
              "            <td>C</td>\n",
              "        </tr>\n",
              "        <tr>\n",
              "            <td>18</td>\n",
              "            <td>F</td>\n",
              "        </tr>\n",
              "        <tr>\n",
              "            <td>19</td>\n",
              "            <td>D</td>\n",
              "        </tr>\n",
              "        <tr>\n",
              "            <td>20</td>\n",
              "            <td>F</td>\n",
              "        </tr>\n",
              "        <tr>\n",
              "            <td>21</td>\n",
              "            <td>A</td>\n",
              "        </tr>\n",
              "        <tr>\n",
              "            <td>22</td>\n",
              "            <td>B</td>\n",
              "        </tr>\n",
              "        <tr>\n",
              "            <td>23</td>\n",
              "            <td>C</td>\n",
              "        </tr>\n",
              "        <tr>\n",
              "            <td>24</td>\n",
              "            <td>F</td>\n",
              "        </tr>\n",
              "        <tr>\n",
              "            <td>25</td>\n",
              "            <td>D</td>\n",
              "        </tr>\n",
              "        <tr>\n",
              "            <td>26</td>\n",
              "            <td>F</td>\n",
              "        </tr>\n",
              "        <tr>\n",
              "            <td>27</td>\n",
              "            <td>A</td>\n",
              "        </tr>\n",
              "        <tr>\n",
              "            <td>28</td>\n",
              "            <td>B</td>\n",
              "        </tr>\n",
              "        <tr>\n",
              "            <td>29</td>\n",
              "            <td>C</td>\n",
              "        </tr>\n",
              "        <tr>\n",
              "            <td>30</td>\n",
              "            <td>F</td>\n",
              "        </tr>\n",
              "    </tbody>\n",
              "</table>"
            ],
            "text/plain": [
              "[(1, 'D'),\n",
              " (2, 'F'),\n",
              " (3, 'A'),\n",
              " (4, 'B'),\n",
              " (5, 'C'),\n",
              " (6, 'F'),\n",
              " (7, 'D'),\n",
              " (8, 'F'),\n",
              " (9, 'A'),\n",
              " (10, 'B'),\n",
              " (11, 'C'),\n",
              " (12, 'F'),\n",
              " (13, 'D'),\n",
              " (14, 'F'),\n",
              " (15, 'A'),\n",
              " (16, 'B'),\n",
              " (17, 'C'),\n",
              " (18, 'F'),\n",
              " (19, 'D'),\n",
              " (20, 'F'),\n",
              " (21, 'A'),\n",
              " (22, 'B'),\n",
              " (23, 'C'),\n",
              " (24, 'F'),\n",
              " (25, 'D'),\n",
              " (26, 'F'),\n",
              " (27, 'A'),\n",
              " (28, 'B'),\n",
              " (29, 'C'),\n",
              " (30, 'F')]"
            ]
          },
          "execution_count": 37,
          "metadata": {},
          "output_type": "execute_result"
        }
      ],
      "source": [
        "%%sql\n",
        "\n",
        "SELECT * FROM Warehouse;"
      ]
    },
    {
      "cell_type": "markdown",
      "id": "f16d90f2",
      "metadata": {
        "id": "f16d90f2"
      },
      "source": [
        "#### Tabel Shipment Mode"
      ]
    },
    {
      "cell_type": "markdown",
      "id": "ab41951e",
      "metadata": {
        "id": "ab41951e"
      },
      "source": [
        "##### Membuat Tabel"
      ]
    },
    {
      "cell_type": "code",
      "execution_count": null,
      "id": "fc7cb8f1",
      "metadata": {
        "id": "fc7cb8f1",
        "outputId": "0fea7390-018f-46b1-c387-847c130260d2"
      },
      "outputs": [
        {
          "name": "stdout",
          "output_type": "stream",
          "text": [
            " * mysql+mysqldb://root@localhost\n",
            "0 rows affected.\n"
          ]
        },
        {
          "data": {
            "text/plain": [
              "[]"
            ]
          },
          "execution_count": 45,
          "metadata": {},
          "output_type": "execute_result"
        }
      ],
      "source": [
        "%%sql\n",
        "\n",
        "CREATE TABLE Shipment_Mode(\n",
        "ID INT,\n",
        "Mode_of_Shipment VARCHAR(10),\n",
        "FOREIGN KEY (ID) REFERENCES Warehouse(ID)\n",
        ");"
      ]
    },
    {
      "cell_type": "markdown",
      "id": "bd9fb86c",
      "metadata": {
        "id": "bd9fb86c"
      },
      "source": [
        "##### Menampilkan Struktur Tabel"
      ]
    },
    {
      "cell_type": "code",
      "execution_count": null,
      "id": "a5e131f4",
      "metadata": {
        "id": "a5e131f4",
        "outputId": "16005e30-5d8d-43ad-aae4-7170c66b3775"
      },
      "outputs": [
        {
          "name": "stdout",
          "output_type": "stream",
          "text": [
            " * mysql+mysqldb://root@localhost\n",
            "2 rows affected.\n"
          ]
        },
        {
          "data": {
            "text/html": [
              "<table>\n",
              "    <thead>\n",
              "        <tr>\n",
              "            <th>Field</th>\n",
              "            <th>Type</th>\n",
              "            <th>Null</th>\n",
              "            <th>Key</th>\n",
              "            <th>Default</th>\n",
              "            <th>Extra</th>\n",
              "        </tr>\n",
              "    </thead>\n",
              "    <tbody>\n",
              "        <tr>\n",
              "            <td>ID</td>\n",
              "            <td>int(11)</td>\n",
              "            <td>YES</td>\n",
              "            <td>MUL</td>\n",
              "            <td>None</td>\n",
              "            <td></td>\n",
              "        </tr>\n",
              "        <tr>\n",
              "            <td>Mode_of_Shipment</td>\n",
              "            <td>varchar(10)</td>\n",
              "            <td>YES</td>\n",
              "            <td></td>\n",
              "            <td>None</td>\n",
              "            <td></td>\n",
              "        </tr>\n",
              "    </tbody>\n",
              "</table>"
            ],
            "text/plain": [
              "[('ID', 'int(11)', 'YES', 'MUL', None, ''),\n",
              " ('Mode_of_Shipment', 'varchar(10)', 'YES', '', None, '')]"
            ]
          },
          "execution_count": 46,
          "metadata": {},
          "output_type": "execute_result"
        }
      ],
      "source": [
        "%%sql\n",
        "\n",
        "DESC Shipment_Mode;"
      ]
    },
    {
      "cell_type": "markdown",
      "id": "46ec1af7",
      "metadata": {
        "id": "46ec1af7"
      },
      "source": [
        "##### Memasukkan Record ke Tabel"
      ]
    },
    {
      "cell_type": "code",
      "execution_count": null,
      "id": "18522d55",
      "metadata": {
        "id": "18522d55",
        "outputId": "441363ff-dabc-4c95-99e4-b4a3ebb81949"
      },
      "outputs": [
        {
          "name": "stdout",
          "output_type": "stream",
          "text": [
            " * mysql+mysqldb://root@localhost\n",
            "30 rows affected.\n"
          ]
        },
        {
          "data": {
            "text/plain": [
              "[]"
            ]
          },
          "execution_count": 47,
          "metadata": {},
          "output_type": "execute_result"
        }
      ],
      "source": [
        "%%sql\n",
        "\n",
        "INSERT INTO Shipment_Mode(ID, Mode_of_Shipment)\n",
        "VALUES\n",
        "(1, 'Flight'),\n",
        "(2, 'Flight'),\n",
        "(3, 'Flight'),\n",
        "(4, 'Flight'),\n",
        "(5, 'Flight'),\n",
        "(6, 'Flight'),\n",
        "(7, 'Flight'),\n",
        "(8, 'Flight'),\n",
        "(9, 'Flight'),\n",
        "(10, 'Flight'),\n",
        "(11, 'Flight'),\n",
        "(12, 'Flight'),\n",
        "(13, 'Flight'),\n",
        "(14, 'Flight'),\n",
        "(15, 'Flight'),\n",
        "(16, 'Flight'),\n",
        "(17, 'Flight'),\n",
        "(18, 'Ship'),\n",
        "(19, 'Ship'),\n",
        "(20, 'Ship'),\n",
        "(21, 'Ship'),\n",
        "(22, 'Ship'),\n",
        "(23, 'Ship'),\n",
        "(24, 'Ship'),\n",
        "(25, 'Ship'),\n",
        "(26, 'Ship'),\n",
        "(27, 'Ship'),\n",
        "(28, 'Ship'),\n",
        "(29, 'Ship'),\n",
        "(30, 'Ship');"
      ]
    },
    {
      "cell_type": "markdown",
      "id": "f3436a5a",
      "metadata": {
        "id": "f3436a5a"
      },
      "source": [
        "##### Menampilkan Record pada Tabel"
      ]
    },
    {
      "cell_type": "code",
      "execution_count": null,
      "id": "815a02c3",
      "metadata": {
        "scrolled": true,
        "id": "815a02c3",
        "outputId": "31463d7d-6c30-4de4-f9bc-19ac0486051c"
      },
      "outputs": [
        {
          "name": "stdout",
          "output_type": "stream",
          "text": [
            " * mysql+mysqldb://root@localhost\n",
            "30 rows affected.\n"
          ]
        },
        {
          "data": {
            "text/html": [
              "<table>\n",
              "    <thead>\n",
              "        <tr>\n",
              "            <th>ID</th>\n",
              "            <th>Mode_of_Shipment</th>\n",
              "        </tr>\n",
              "    </thead>\n",
              "    <tbody>\n",
              "        <tr>\n",
              "            <td>1</td>\n",
              "            <td>Flight</td>\n",
              "        </tr>\n",
              "        <tr>\n",
              "            <td>2</td>\n",
              "            <td>Flight</td>\n",
              "        </tr>\n",
              "        <tr>\n",
              "            <td>3</td>\n",
              "            <td>Flight</td>\n",
              "        </tr>\n",
              "        <tr>\n",
              "            <td>4</td>\n",
              "            <td>Flight</td>\n",
              "        </tr>\n",
              "        <tr>\n",
              "            <td>5</td>\n",
              "            <td>Flight</td>\n",
              "        </tr>\n",
              "        <tr>\n",
              "            <td>6</td>\n",
              "            <td>Flight</td>\n",
              "        </tr>\n",
              "        <tr>\n",
              "            <td>7</td>\n",
              "            <td>Flight</td>\n",
              "        </tr>\n",
              "        <tr>\n",
              "            <td>8</td>\n",
              "            <td>Flight</td>\n",
              "        </tr>\n",
              "        <tr>\n",
              "            <td>9</td>\n",
              "            <td>Flight</td>\n",
              "        </tr>\n",
              "        <tr>\n",
              "            <td>10</td>\n",
              "            <td>Flight</td>\n",
              "        </tr>\n",
              "        <tr>\n",
              "            <td>11</td>\n",
              "            <td>Flight</td>\n",
              "        </tr>\n",
              "        <tr>\n",
              "            <td>12</td>\n",
              "            <td>Flight</td>\n",
              "        </tr>\n",
              "        <tr>\n",
              "            <td>13</td>\n",
              "            <td>Flight</td>\n",
              "        </tr>\n",
              "        <tr>\n",
              "            <td>14</td>\n",
              "            <td>Flight</td>\n",
              "        </tr>\n",
              "        <tr>\n",
              "            <td>15</td>\n",
              "            <td>Flight</td>\n",
              "        </tr>\n",
              "        <tr>\n",
              "            <td>16</td>\n",
              "            <td>Flight</td>\n",
              "        </tr>\n",
              "        <tr>\n",
              "            <td>17</td>\n",
              "            <td>Flight</td>\n",
              "        </tr>\n",
              "        <tr>\n",
              "            <td>18</td>\n",
              "            <td>Ship</td>\n",
              "        </tr>\n",
              "        <tr>\n",
              "            <td>19</td>\n",
              "            <td>Ship</td>\n",
              "        </tr>\n",
              "        <tr>\n",
              "            <td>20</td>\n",
              "            <td>Ship</td>\n",
              "        </tr>\n",
              "        <tr>\n",
              "            <td>21</td>\n",
              "            <td>Ship</td>\n",
              "        </tr>\n",
              "        <tr>\n",
              "            <td>22</td>\n",
              "            <td>Ship</td>\n",
              "        </tr>\n",
              "        <tr>\n",
              "            <td>23</td>\n",
              "            <td>Ship</td>\n",
              "        </tr>\n",
              "        <tr>\n",
              "            <td>24</td>\n",
              "            <td>Ship</td>\n",
              "        </tr>\n",
              "        <tr>\n",
              "            <td>25</td>\n",
              "            <td>Ship</td>\n",
              "        </tr>\n",
              "        <tr>\n",
              "            <td>26</td>\n",
              "            <td>Ship</td>\n",
              "        </tr>\n",
              "        <tr>\n",
              "            <td>27</td>\n",
              "            <td>Ship</td>\n",
              "        </tr>\n",
              "        <tr>\n",
              "            <td>28</td>\n",
              "            <td>Ship</td>\n",
              "        </tr>\n",
              "        <tr>\n",
              "            <td>29</td>\n",
              "            <td>Ship</td>\n",
              "        </tr>\n",
              "        <tr>\n",
              "            <td>30</td>\n",
              "            <td>Ship</td>\n",
              "        </tr>\n",
              "    </tbody>\n",
              "</table>"
            ],
            "text/plain": [
              "[(1, 'Flight'),\n",
              " (2, 'Flight'),\n",
              " (3, 'Flight'),\n",
              " (4, 'Flight'),\n",
              " (5, 'Flight'),\n",
              " (6, 'Flight'),\n",
              " (7, 'Flight'),\n",
              " (8, 'Flight'),\n",
              " (9, 'Flight'),\n",
              " (10, 'Flight'),\n",
              " (11, 'Flight'),\n",
              " (12, 'Flight'),\n",
              " (13, 'Flight'),\n",
              " (14, 'Flight'),\n",
              " (15, 'Flight'),\n",
              " (16, 'Flight'),\n",
              " (17, 'Flight'),\n",
              " (18, 'Ship'),\n",
              " (19, 'Ship'),\n",
              " (20, 'Ship'),\n",
              " (21, 'Ship'),\n",
              " (22, 'Ship'),\n",
              " (23, 'Ship'),\n",
              " (24, 'Ship'),\n",
              " (25, 'Ship'),\n",
              " (26, 'Ship'),\n",
              " (27, 'Ship'),\n",
              " (28, 'Ship'),\n",
              " (29, 'Ship'),\n",
              " (30, 'Ship')]"
            ]
          },
          "execution_count": 48,
          "metadata": {},
          "output_type": "execute_result"
        }
      ],
      "source": [
        "%%sql\n",
        "\n",
        "SELECT * FROM Shipment_Mode;"
      ]
    },
    {
      "cell_type": "markdown",
      "id": "cc783759",
      "metadata": {
        "id": "cc783759"
      },
      "source": [
        "#### Tabel Customer"
      ]
    },
    {
      "cell_type": "markdown",
      "id": "d257a819",
      "metadata": {
        "id": "d257a819"
      },
      "source": [
        "##### Membuat Tabel"
      ]
    },
    {
      "cell_type": "code",
      "execution_count": null,
      "id": "5b836859",
      "metadata": {
        "id": "5b836859",
        "outputId": "5128cbf2-c1d3-4771-ccae-018532868c2d"
      },
      "outputs": [
        {
          "name": "stdout",
          "output_type": "stream",
          "text": [
            " * mysql+mysqldb://root@localhost\n",
            "0 rows affected.\n"
          ]
        },
        {
          "data": {
            "text/plain": [
              "[]"
            ]
          },
          "execution_count": 50,
          "metadata": {},
          "output_type": "execute_result"
        }
      ],
      "source": [
        "%%sql\n",
        "\n",
        "CREATE TABLE Customer(\n",
        "ID INT,\n",
        "Customer_care_calls INT,\n",
        "Customer_rating INT,\n",
        "Prior_purchases INT,\n",
        "Product_importance VARCHAR(10),\n",
        "Gender ENUM('F', 'M'),\n",
        "FOREIGN KEY (ID) REFERENCES Warehouse (ID)\n",
        ");"
      ]
    },
    {
      "cell_type": "markdown",
      "id": "0890a817",
      "metadata": {
        "id": "0890a817"
      },
      "source": [
        "##### Menampilkan Struktur Tabel"
      ]
    },
    {
      "cell_type": "code",
      "execution_count": null,
      "id": "ef105250",
      "metadata": {
        "id": "ef105250",
        "outputId": "5219f628-12a0-48ea-fc49-6e079377e3a6"
      },
      "outputs": [
        {
          "name": "stdout",
          "output_type": "stream",
          "text": [
            " * mysql+mysqldb://root@localhost\n",
            "6 rows affected.\n"
          ]
        },
        {
          "data": {
            "text/html": [
              "<table>\n",
              "    <thead>\n",
              "        <tr>\n",
              "            <th>Field</th>\n",
              "            <th>Type</th>\n",
              "            <th>Null</th>\n",
              "            <th>Key</th>\n",
              "            <th>Default</th>\n",
              "            <th>Extra</th>\n",
              "        </tr>\n",
              "    </thead>\n",
              "    <tbody>\n",
              "        <tr>\n",
              "            <td>ID</td>\n",
              "            <td>int(11)</td>\n",
              "            <td>YES</td>\n",
              "            <td>MUL</td>\n",
              "            <td>None</td>\n",
              "            <td></td>\n",
              "        </tr>\n",
              "        <tr>\n",
              "            <td>Customer_care_calls</td>\n",
              "            <td>int(11)</td>\n",
              "            <td>YES</td>\n",
              "            <td></td>\n",
              "            <td>None</td>\n",
              "            <td></td>\n",
              "        </tr>\n",
              "        <tr>\n",
              "            <td>Customer_rating</td>\n",
              "            <td>int(11)</td>\n",
              "            <td>YES</td>\n",
              "            <td></td>\n",
              "            <td>None</td>\n",
              "            <td></td>\n",
              "        </tr>\n",
              "        <tr>\n",
              "            <td>Prior_purchases</td>\n",
              "            <td>int(11)</td>\n",
              "            <td>YES</td>\n",
              "            <td></td>\n",
              "            <td>None</td>\n",
              "            <td></td>\n",
              "        </tr>\n",
              "        <tr>\n",
              "            <td>Product_importance</td>\n",
              "            <td>varchar(10)</td>\n",
              "            <td>YES</td>\n",
              "            <td></td>\n",
              "            <td>None</td>\n",
              "            <td></td>\n",
              "        </tr>\n",
              "        <tr>\n",
              "            <td>Gender</td>\n",
              "            <td>enum(&#x27;F&#x27;,&#x27;M&#x27;)</td>\n",
              "            <td>YES</td>\n",
              "            <td></td>\n",
              "            <td>None</td>\n",
              "            <td></td>\n",
              "        </tr>\n",
              "    </tbody>\n",
              "</table>"
            ],
            "text/plain": [
              "[('ID', 'int(11)', 'YES', 'MUL', None, ''),\n",
              " ('Customer_care_calls', 'int(11)', 'YES', '', None, ''),\n",
              " ('Customer_rating', 'int(11)', 'YES', '', None, ''),\n",
              " ('Prior_purchases', 'int(11)', 'YES', '', None, ''),\n",
              " ('Product_importance', 'varchar(10)', 'YES', '', None, ''),\n",
              " ('Gender', \"enum('F','M')\", 'YES', '', None, '')]"
            ]
          },
          "execution_count": 51,
          "metadata": {},
          "output_type": "execute_result"
        }
      ],
      "source": [
        "%%sql\n",
        "\n",
        "DESC Customer;"
      ]
    },
    {
      "cell_type": "markdown",
      "id": "5f3b5269",
      "metadata": {
        "id": "5f3b5269"
      },
      "source": [
        "##### Memasukkan Record ke Tabel"
      ]
    },
    {
      "cell_type": "code",
      "execution_count": null,
      "id": "b9e9e4b8",
      "metadata": {
        "id": "b9e9e4b8",
        "outputId": "04e6f4b0-fa9f-4118-ded6-362c03bfe94c"
      },
      "outputs": [
        {
          "name": "stdout",
          "output_type": "stream",
          "text": [
            " * mysql+mysqldb://root@localhost\n",
            "30 rows affected.\n"
          ]
        },
        {
          "data": {
            "text/plain": [
              "[]"
            ]
          },
          "execution_count": 55,
          "metadata": {},
          "output_type": "execute_result"
        }
      ],
      "source": [
        "%%sql\n",
        "\n",
        "INSERT INTO Customer(ID, Customer_care_calls, Customer_rating, Prior_purchases, Product_importance, Gender)\n",
        "VALUES\n",
        "(1, 4, 2, 3, 'low', 'F'),\n",
        "(2, 4, 5, 2, 'low', 'M'),\n",
        "(3, 2, 2, 4, 'low', 'M'),\n",
        "(4, 3, 3, 4, 'medium', 'M'),\n",
        "(5, 2, 2, 3, 'medium', 'F'),\n",
        "(6, 3, 1, 3, 'medium', 'F'),\n",
        "(7, 3, 4, 3, 'low', 'F'),\n",
        "(8, 4, 1, 2, 'low', 'F'),\n",
        "(9, 3, 4, 3, 'low', 'F'),\n",
        "(10, 3, 2, 3, 'medium', 'F'),\n",
        "(11, 3, 4, 2, 'medium', 'M'),\n",
        "(12, 4, 5, 3, 'medium', 'F'),\n",
        "(13, 3, 5, 3, 'medium', 'F'),\n",
        "(14, 4, 4, 3, 'high', 'M'),\n",
        "(15, 4, 3, 3, 'low', 'M'),\n",
        "(16, 4, 3, 3, 'low', 'F'),\n",
        "(17, 3, 4, 2, 'medium', 'F'),\n",
        "(18, 5, 5, 3, 'medium', 'M'),\n",
        "(19, 5, 5, 3, 'high', 'M'),\n",
        "(20, 4, 5, 3, 'medium', 'M'),\n",
        "(21, 3, 3, 2, 'medium', 'F'),\n",
        "(22, 3, 1, 4, 'medium', 'F'),\n",
        "(23, 2, 5, 2, 'low', 'M'),\n",
        "(24, 4, 3, 3, 'high', 'M'),\n",
        "(25, 4, 5, 2, 'medium', 'F'),\n",
        "(26, 3, 1, 4, 'low', 'M'),\n",
        "(27, 4, 1, 3, 'high', 'F'),\n",
        "(28, 5, 1, 3, 'medium', 'M'),\n",
        "(29, 2, 3, 4, 'low', 'M'),\n",
        "(30, 5, 4, 2, 'low', 'F');"
      ]
    },
    {
      "cell_type": "markdown",
      "id": "f7bb8506",
      "metadata": {
        "id": "f7bb8506"
      },
      "source": [
        "##### Menampilkan Record pada Tabel"
      ]
    },
    {
      "cell_type": "code",
      "execution_count": null,
      "id": "4df13264",
      "metadata": {
        "id": "4df13264",
        "outputId": "655cc718-3442-4bfd-f37a-6acbdf3f0368"
      },
      "outputs": [
        {
          "name": "stdout",
          "output_type": "stream",
          "text": [
            " * mysql+mysqldb://root@localhost\n",
            "30 rows affected.\n"
          ]
        },
        {
          "data": {
            "text/html": [
              "<table>\n",
              "    <thead>\n",
              "        <tr>\n",
              "            <th>ID</th>\n",
              "            <th>Customer_care_calls</th>\n",
              "            <th>Customer_rating</th>\n",
              "            <th>Prior_purchases</th>\n",
              "            <th>Product_importance</th>\n",
              "            <th>Gender</th>\n",
              "        </tr>\n",
              "    </thead>\n",
              "    <tbody>\n",
              "        <tr>\n",
              "            <td>1</td>\n",
              "            <td>4</td>\n",
              "            <td>2</td>\n",
              "            <td>3</td>\n",
              "            <td>low</td>\n",
              "            <td>F</td>\n",
              "        </tr>\n",
              "        <tr>\n",
              "            <td>2</td>\n",
              "            <td>4</td>\n",
              "            <td>5</td>\n",
              "            <td>2</td>\n",
              "            <td>low</td>\n",
              "            <td>M</td>\n",
              "        </tr>\n",
              "        <tr>\n",
              "            <td>3</td>\n",
              "            <td>2</td>\n",
              "            <td>2</td>\n",
              "            <td>4</td>\n",
              "            <td>low</td>\n",
              "            <td>M</td>\n",
              "        </tr>\n",
              "        <tr>\n",
              "            <td>4</td>\n",
              "            <td>3</td>\n",
              "            <td>3</td>\n",
              "            <td>4</td>\n",
              "            <td>medium</td>\n",
              "            <td>M</td>\n",
              "        </tr>\n",
              "        <tr>\n",
              "            <td>5</td>\n",
              "            <td>2</td>\n",
              "            <td>2</td>\n",
              "            <td>3</td>\n",
              "            <td>medium</td>\n",
              "            <td>F</td>\n",
              "        </tr>\n",
              "        <tr>\n",
              "            <td>6</td>\n",
              "            <td>3</td>\n",
              "            <td>1</td>\n",
              "            <td>3</td>\n",
              "            <td>medium</td>\n",
              "            <td>F</td>\n",
              "        </tr>\n",
              "        <tr>\n",
              "            <td>7</td>\n",
              "            <td>3</td>\n",
              "            <td>4</td>\n",
              "            <td>3</td>\n",
              "            <td>low</td>\n",
              "            <td>F</td>\n",
              "        </tr>\n",
              "        <tr>\n",
              "            <td>8</td>\n",
              "            <td>4</td>\n",
              "            <td>1</td>\n",
              "            <td>2</td>\n",
              "            <td>low</td>\n",
              "            <td>F</td>\n",
              "        </tr>\n",
              "        <tr>\n",
              "            <td>9</td>\n",
              "            <td>3</td>\n",
              "            <td>4</td>\n",
              "            <td>3</td>\n",
              "            <td>low</td>\n",
              "            <td>F</td>\n",
              "        </tr>\n",
              "        <tr>\n",
              "            <td>10</td>\n",
              "            <td>3</td>\n",
              "            <td>2</td>\n",
              "            <td>3</td>\n",
              "            <td>medium</td>\n",
              "            <td>F</td>\n",
              "        </tr>\n",
              "        <tr>\n",
              "            <td>11</td>\n",
              "            <td>3</td>\n",
              "            <td>4</td>\n",
              "            <td>2</td>\n",
              "            <td>medium</td>\n",
              "            <td>M</td>\n",
              "        </tr>\n",
              "        <tr>\n",
              "            <td>12</td>\n",
              "            <td>4</td>\n",
              "            <td>5</td>\n",
              "            <td>3</td>\n",
              "            <td>medium</td>\n",
              "            <td>F</td>\n",
              "        </tr>\n",
              "        <tr>\n",
              "            <td>13</td>\n",
              "            <td>3</td>\n",
              "            <td>5</td>\n",
              "            <td>3</td>\n",
              "            <td>medium</td>\n",
              "            <td>F</td>\n",
              "        </tr>\n",
              "        <tr>\n",
              "            <td>14</td>\n",
              "            <td>4</td>\n",
              "            <td>4</td>\n",
              "            <td>3</td>\n",
              "            <td>high</td>\n",
              "            <td>M</td>\n",
              "        </tr>\n",
              "        <tr>\n",
              "            <td>15</td>\n",
              "            <td>4</td>\n",
              "            <td>3</td>\n",
              "            <td>3</td>\n",
              "            <td>low</td>\n",
              "            <td>M</td>\n",
              "        </tr>\n",
              "        <tr>\n",
              "            <td>16</td>\n",
              "            <td>4</td>\n",
              "            <td>3</td>\n",
              "            <td>3</td>\n",
              "            <td>low</td>\n",
              "            <td>F</td>\n",
              "        </tr>\n",
              "        <tr>\n",
              "            <td>17</td>\n",
              "            <td>3</td>\n",
              "            <td>4</td>\n",
              "            <td>2</td>\n",
              "            <td>medium</td>\n",
              "            <td>F</td>\n",
              "        </tr>\n",
              "        <tr>\n",
              "            <td>18</td>\n",
              "            <td>5</td>\n",
              "            <td>5</td>\n",
              "            <td>3</td>\n",
              "            <td>medium</td>\n",
              "            <td>M</td>\n",
              "        </tr>\n",
              "        <tr>\n",
              "            <td>19</td>\n",
              "            <td>5</td>\n",
              "            <td>5</td>\n",
              "            <td>3</td>\n",
              "            <td>high</td>\n",
              "            <td>M</td>\n",
              "        </tr>\n",
              "        <tr>\n",
              "            <td>20</td>\n",
              "            <td>4</td>\n",
              "            <td>5</td>\n",
              "            <td>3</td>\n",
              "            <td>medium</td>\n",
              "            <td>M</td>\n",
              "        </tr>\n",
              "        <tr>\n",
              "            <td>21</td>\n",
              "            <td>3</td>\n",
              "            <td>3</td>\n",
              "            <td>2</td>\n",
              "            <td>medium</td>\n",
              "            <td>F</td>\n",
              "        </tr>\n",
              "        <tr>\n",
              "            <td>22</td>\n",
              "            <td>3</td>\n",
              "            <td>1</td>\n",
              "            <td>4</td>\n",
              "            <td>medium</td>\n",
              "            <td>F</td>\n",
              "        </tr>\n",
              "        <tr>\n",
              "            <td>23</td>\n",
              "            <td>2</td>\n",
              "            <td>5</td>\n",
              "            <td>2</td>\n",
              "            <td>low</td>\n",
              "            <td>M</td>\n",
              "        </tr>\n",
              "        <tr>\n",
              "            <td>24</td>\n",
              "            <td>4</td>\n",
              "            <td>3</td>\n",
              "            <td>3</td>\n",
              "            <td>high</td>\n",
              "            <td>M</td>\n",
              "        </tr>\n",
              "        <tr>\n",
              "            <td>25</td>\n",
              "            <td>4</td>\n",
              "            <td>5</td>\n",
              "            <td>2</td>\n",
              "            <td>medium</td>\n",
              "            <td>F</td>\n",
              "        </tr>\n",
              "        <tr>\n",
              "            <td>26</td>\n",
              "            <td>3</td>\n",
              "            <td>1</td>\n",
              "            <td>4</td>\n",
              "            <td>low</td>\n",
              "            <td>M</td>\n",
              "        </tr>\n",
              "        <tr>\n",
              "            <td>27</td>\n",
              "            <td>4</td>\n",
              "            <td>1</td>\n",
              "            <td>3</td>\n",
              "            <td>high</td>\n",
              "            <td>F</td>\n",
              "        </tr>\n",
              "        <tr>\n",
              "            <td>28</td>\n",
              "            <td>5</td>\n",
              "            <td>1</td>\n",
              "            <td>3</td>\n",
              "            <td>medium</td>\n",
              "            <td>M</td>\n",
              "        </tr>\n",
              "        <tr>\n",
              "            <td>29</td>\n",
              "            <td>2</td>\n",
              "            <td>3</td>\n",
              "            <td>4</td>\n",
              "            <td>low</td>\n",
              "            <td>M</td>\n",
              "        </tr>\n",
              "        <tr>\n",
              "            <td>30</td>\n",
              "            <td>5</td>\n",
              "            <td>4</td>\n",
              "            <td>2</td>\n",
              "            <td>low</td>\n",
              "            <td>F</td>\n",
              "        </tr>\n",
              "    </tbody>\n",
              "</table>"
            ],
            "text/plain": [
              "[(1, 4, 2, 3, 'low', 'F'),\n",
              " (2, 4, 5, 2, 'low', 'M'),\n",
              " (3, 2, 2, 4, 'low', 'M'),\n",
              " (4, 3, 3, 4, 'medium', 'M'),\n",
              " (5, 2, 2, 3, 'medium', 'F'),\n",
              " (6, 3, 1, 3, 'medium', 'F'),\n",
              " (7, 3, 4, 3, 'low', 'F'),\n",
              " (8, 4, 1, 2, 'low', 'F'),\n",
              " (9, 3, 4, 3, 'low', 'F'),\n",
              " (10, 3, 2, 3, 'medium', 'F'),\n",
              " (11, 3, 4, 2, 'medium', 'M'),\n",
              " (12, 4, 5, 3, 'medium', 'F'),\n",
              " (13, 3, 5, 3, 'medium', 'F'),\n",
              " (14, 4, 4, 3, 'high', 'M'),\n",
              " (15, 4, 3, 3, 'low', 'M'),\n",
              " (16, 4, 3, 3, 'low', 'F'),\n",
              " (17, 3, 4, 2, 'medium', 'F'),\n",
              " (18, 5, 5, 3, 'medium', 'M'),\n",
              " (19, 5, 5, 3, 'high', 'M'),\n",
              " (20, 4, 5, 3, 'medium', 'M'),\n",
              " (21, 3, 3, 2, 'medium', 'F'),\n",
              " (22, 3, 1, 4, 'medium', 'F'),\n",
              " (23, 2, 5, 2, 'low', 'M'),\n",
              " (24, 4, 3, 3, 'high', 'M'),\n",
              " (25, 4, 5, 2, 'medium', 'F'),\n",
              " (26, 3, 1, 4, 'low', 'M'),\n",
              " (27, 4, 1, 3, 'high', 'F'),\n",
              " (28, 5, 1, 3, 'medium', 'M'),\n",
              " (29, 2, 3, 4, 'low', 'M'),\n",
              " (30, 5, 4, 2, 'low', 'F')]"
            ]
          },
          "execution_count": 96,
          "metadata": {},
          "output_type": "execute_result"
        }
      ],
      "source": [
        "%%sql\n",
        "\n",
        "SELECT * FROM Customer;"
      ]
    },
    {
      "cell_type": "markdown",
      "id": "16c202c7",
      "metadata": {
        "id": "16c202c7"
      },
      "source": [
        "#### Tabel Product"
      ]
    },
    {
      "cell_type": "markdown",
      "id": "6b416513",
      "metadata": {
        "id": "6b416513"
      },
      "source": [
        "##### Membuat Tabel"
      ]
    },
    {
      "cell_type": "code",
      "execution_count": null,
      "id": "5c4bd9af",
      "metadata": {
        "id": "5c4bd9af",
        "outputId": "457b822a-07a5-416a-9755-f5bab038cd24"
      },
      "outputs": [
        {
          "name": "stdout",
          "output_type": "stream",
          "text": [
            " * mysql+mysqldb://root@localhost\n",
            "0 rows affected.\n"
          ]
        },
        {
          "data": {
            "text/plain": [
              "[]"
            ]
          },
          "execution_count": 57,
          "metadata": {},
          "output_type": "execute_result"
        }
      ],
      "source": [
        "%%sql\n",
        "\n",
        "CREATE TABLE Product(\n",
        "ID INT,\n",
        "Cost_of_the_Product INT,\n",
        "Discount_offered INT,\n",
        "Weight_in_gms INT,\n",
        "Reached_on_Time_Y_N INT,\n",
        "FOREIGN KEY (ID) REFERENCES Warehouse (ID)\n",
        ");"
      ]
    },
    {
      "cell_type": "markdown",
      "id": "4fac1a60",
      "metadata": {
        "id": "4fac1a60"
      },
      "source": [
        "##### Menampilkan Struktur Tabel"
      ]
    },
    {
      "cell_type": "code",
      "execution_count": null,
      "id": "382e5355",
      "metadata": {
        "id": "382e5355",
        "outputId": "924a7846-8535-4333-bd5e-66d11a31286a"
      },
      "outputs": [
        {
          "name": "stdout",
          "output_type": "stream",
          "text": [
            " * mysql+mysqldb://root@localhost\n",
            "5 rows affected.\n"
          ]
        },
        {
          "data": {
            "text/html": [
              "<table>\n",
              "    <thead>\n",
              "        <tr>\n",
              "            <th>Field</th>\n",
              "            <th>Type</th>\n",
              "            <th>Null</th>\n",
              "            <th>Key</th>\n",
              "            <th>Default</th>\n",
              "            <th>Extra</th>\n",
              "        </tr>\n",
              "    </thead>\n",
              "    <tbody>\n",
              "        <tr>\n",
              "            <td>ID</td>\n",
              "            <td>int(11)</td>\n",
              "            <td>YES</td>\n",
              "            <td>MUL</td>\n",
              "            <td>None</td>\n",
              "            <td></td>\n",
              "        </tr>\n",
              "        <tr>\n",
              "            <td>Cost_of_the_Product</td>\n",
              "            <td>int(11)</td>\n",
              "            <td>YES</td>\n",
              "            <td></td>\n",
              "            <td>None</td>\n",
              "            <td></td>\n",
              "        </tr>\n",
              "        <tr>\n",
              "            <td>Discount_offered</td>\n",
              "            <td>int(11)</td>\n",
              "            <td>YES</td>\n",
              "            <td></td>\n",
              "            <td>None</td>\n",
              "            <td></td>\n",
              "        </tr>\n",
              "        <tr>\n",
              "            <td>Weight_in_gms</td>\n",
              "            <td>int(11)</td>\n",
              "            <td>YES</td>\n",
              "            <td></td>\n",
              "            <td>None</td>\n",
              "            <td></td>\n",
              "        </tr>\n",
              "        <tr>\n",
              "            <td>Reached_on_Time_Y_N</td>\n",
              "            <td>int(11)</td>\n",
              "            <td>YES</td>\n",
              "            <td></td>\n",
              "            <td>None</td>\n",
              "            <td></td>\n",
              "        </tr>\n",
              "    </tbody>\n",
              "</table>"
            ],
            "text/plain": [
              "[('ID', 'int(11)', 'YES', 'MUL', None, ''),\n",
              " ('Cost_of_the_Product', 'int(11)', 'YES', '', None, ''),\n",
              " ('Discount_offered', 'int(11)', 'YES', '', None, ''),\n",
              " ('Weight_in_gms', 'int(11)', 'YES', '', None, ''),\n",
              " ('Reached_on_Time_Y_N', 'int(11)', 'YES', '', None, '')]"
            ]
          },
          "execution_count": 58,
          "metadata": {},
          "output_type": "execute_result"
        }
      ],
      "source": [
        "%%sql\n",
        "\n",
        "DESC Product;"
      ]
    },
    {
      "cell_type": "markdown",
      "id": "15e26d4e",
      "metadata": {
        "id": "15e26d4e"
      },
      "source": [
        "##### Memasukkan Record ke Tabel"
      ]
    },
    {
      "cell_type": "code",
      "execution_count": null,
      "id": "ab759e11",
      "metadata": {
        "id": "ab759e11",
        "outputId": "7fbd34a5-1dcb-49a6-aa39-efa495c9404e"
      },
      "outputs": [
        {
          "name": "stdout",
          "output_type": "stream",
          "text": [
            " * mysql+mysqldb://root@localhost\n",
            "30 rows affected.\n"
          ]
        },
        {
          "data": {
            "text/plain": [
              "[]"
            ]
          },
          "execution_count": 65,
          "metadata": {},
          "output_type": "execute_result"
        }
      ],
      "source": [
        "%%sql\n",
        "\n",
        "INSERT INTO Product(ID, Cost_of_the_Product, Discount_offered, Weight_in_gms, Reached_on_Time_Y_N)\n",
        "VALUES\n",
        "(1, 177, 44, 1233, 1),\n",
        "(2, 216, 59, 3088, 1),\n",
        "(3, 183, 48, 3374, 1),\n",
        "(4, 176, 10, 1177, 1),\n",
        "(5, 184, 46, 2484, 1),\n",
        "(6, 162, 12, 1417, 1),\n",
        "(7, 250, 3, 2371, 1),\n",
        "(8, 233, 48, 2804, 1),\n",
        "(9, 150, 11, 1861, 1),\n",
        "(10, 164, 29, 1187, 1),\n",
        "(11, 189, 12, 2888, 1),\n",
        "(12, 232, 32, 3253, 1),\n",
        "(13, 198, 1, 3667, 1),\n",
        "(14, 275, 29, 2602, 1),\n",
        "(15, 152, 43, 1009, 1),\n",
        "(16, 227, 45, 2707, 1),\n",
        "(17, 143, 6, 1194, 1),\n",
        "(18, 227, 36, 3952, 1),\n",
        "(19, 239, 18, 2495, 1),\n",
        "(20, 145, 45, 1059, 1),\n",
        "(21, 161, 38, 1521, 1),\n",
        "(22, 232, 51, 2899, 1),\n",
        "(23, 156, 2, 1750, 1),\n",
        "(24, 211, 12, 3922, 1),\n",
        "(25, 251, 28, 3561, 1),\n",
        "(26, 225, 29, 3496, 1),\n",
        "(27, 172, 24, 1066, 1),\n",
        "(28, 162, 31, 1435, 1),\n",
        "(29, 234, 44, 3134, 1),\n",
        "(30, 183, 36, 3819, 1);"
      ]
    },
    {
      "cell_type": "code",
      "execution_count": null,
      "id": "adcd82d3",
      "metadata": {
        "id": "adcd82d3",
        "outputId": "aee5884b-3fe8-46c9-963c-badf14268a2d"
      },
      "outputs": [
        {
          "name": "stdout",
          "output_type": "stream",
          "text": [
            " * mysql+mysqldb://root@localhost\n",
            "30 rows affected.\n"
          ]
        },
        {
          "data": {
            "text/html": [
              "<table>\n",
              "    <thead>\n",
              "        <tr>\n",
              "            <th>ID</th>\n",
              "            <th>Cost_of_the_Product</th>\n",
              "            <th>Discount_offered</th>\n",
              "            <th>Weight_in_gms</th>\n",
              "            <th>Reached_on_Time_Y_N</th>\n",
              "        </tr>\n",
              "    </thead>\n",
              "    <tbody>\n",
              "        <tr>\n",
              "            <td>1</td>\n",
              "            <td>177</td>\n",
              "            <td>44</td>\n",
              "            <td>1233</td>\n",
              "            <td>1</td>\n",
              "        </tr>\n",
              "        <tr>\n",
              "            <td>2</td>\n",
              "            <td>216</td>\n",
              "            <td>59</td>\n",
              "            <td>3088</td>\n",
              "            <td>1</td>\n",
              "        </tr>\n",
              "        <tr>\n",
              "            <td>3</td>\n",
              "            <td>183</td>\n",
              "            <td>48</td>\n",
              "            <td>3374</td>\n",
              "            <td>1</td>\n",
              "        </tr>\n",
              "        <tr>\n",
              "            <td>4</td>\n",
              "            <td>176</td>\n",
              "            <td>10</td>\n",
              "            <td>1177</td>\n",
              "            <td>1</td>\n",
              "        </tr>\n",
              "        <tr>\n",
              "            <td>5</td>\n",
              "            <td>184</td>\n",
              "            <td>46</td>\n",
              "            <td>2484</td>\n",
              "            <td>1</td>\n",
              "        </tr>\n",
              "        <tr>\n",
              "            <td>6</td>\n",
              "            <td>162</td>\n",
              "            <td>12</td>\n",
              "            <td>1417</td>\n",
              "            <td>1</td>\n",
              "        </tr>\n",
              "        <tr>\n",
              "            <td>7</td>\n",
              "            <td>250</td>\n",
              "            <td>3</td>\n",
              "            <td>2371</td>\n",
              "            <td>1</td>\n",
              "        </tr>\n",
              "        <tr>\n",
              "            <td>8</td>\n",
              "            <td>233</td>\n",
              "            <td>48</td>\n",
              "            <td>2804</td>\n",
              "            <td>1</td>\n",
              "        </tr>\n",
              "        <tr>\n",
              "            <td>9</td>\n",
              "            <td>150</td>\n",
              "            <td>11</td>\n",
              "            <td>1861</td>\n",
              "            <td>1</td>\n",
              "        </tr>\n",
              "        <tr>\n",
              "            <td>10</td>\n",
              "            <td>164</td>\n",
              "            <td>29</td>\n",
              "            <td>1187</td>\n",
              "            <td>1</td>\n",
              "        </tr>\n",
              "        <tr>\n",
              "            <td>11</td>\n",
              "            <td>189</td>\n",
              "            <td>12</td>\n",
              "            <td>2888</td>\n",
              "            <td>1</td>\n",
              "        </tr>\n",
              "        <tr>\n",
              "            <td>12</td>\n",
              "            <td>232</td>\n",
              "            <td>32</td>\n",
              "            <td>3253</td>\n",
              "            <td>1</td>\n",
              "        </tr>\n",
              "        <tr>\n",
              "            <td>13</td>\n",
              "            <td>198</td>\n",
              "            <td>1</td>\n",
              "            <td>3667</td>\n",
              "            <td>1</td>\n",
              "        </tr>\n",
              "        <tr>\n",
              "            <td>14</td>\n",
              "            <td>275</td>\n",
              "            <td>29</td>\n",
              "            <td>2602</td>\n",
              "            <td>1</td>\n",
              "        </tr>\n",
              "        <tr>\n",
              "            <td>15</td>\n",
              "            <td>152</td>\n",
              "            <td>43</td>\n",
              "            <td>1009</td>\n",
              "            <td>1</td>\n",
              "        </tr>\n",
              "        <tr>\n",
              "            <td>16</td>\n",
              "            <td>227</td>\n",
              "            <td>45</td>\n",
              "            <td>2707</td>\n",
              "            <td>1</td>\n",
              "        </tr>\n",
              "        <tr>\n",
              "            <td>17</td>\n",
              "            <td>143</td>\n",
              "            <td>6</td>\n",
              "            <td>1194</td>\n",
              "            <td>1</td>\n",
              "        </tr>\n",
              "        <tr>\n",
              "            <td>18</td>\n",
              "            <td>227</td>\n",
              "            <td>36</td>\n",
              "            <td>3952</td>\n",
              "            <td>1</td>\n",
              "        </tr>\n",
              "        <tr>\n",
              "            <td>19</td>\n",
              "            <td>239</td>\n",
              "            <td>18</td>\n",
              "            <td>2495</td>\n",
              "            <td>1</td>\n",
              "        </tr>\n",
              "        <tr>\n",
              "            <td>20</td>\n",
              "            <td>145</td>\n",
              "            <td>45</td>\n",
              "            <td>1059</td>\n",
              "            <td>1</td>\n",
              "        </tr>\n",
              "        <tr>\n",
              "            <td>21</td>\n",
              "            <td>161</td>\n",
              "            <td>38</td>\n",
              "            <td>1521</td>\n",
              "            <td>1</td>\n",
              "        </tr>\n",
              "        <tr>\n",
              "            <td>22</td>\n",
              "            <td>232</td>\n",
              "            <td>51</td>\n",
              "            <td>2899</td>\n",
              "            <td>1</td>\n",
              "        </tr>\n",
              "        <tr>\n",
              "            <td>23</td>\n",
              "            <td>156</td>\n",
              "            <td>2</td>\n",
              "            <td>1750</td>\n",
              "            <td>1</td>\n",
              "        </tr>\n",
              "        <tr>\n",
              "            <td>24</td>\n",
              "            <td>211</td>\n",
              "            <td>12</td>\n",
              "            <td>3922</td>\n",
              "            <td>1</td>\n",
              "        </tr>\n",
              "        <tr>\n",
              "            <td>25</td>\n",
              "            <td>251</td>\n",
              "            <td>28</td>\n",
              "            <td>3561</td>\n",
              "            <td>1</td>\n",
              "        </tr>\n",
              "        <tr>\n",
              "            <td>26</td>\n",
              "            <td>225</td>\n",
              "            <td>29</td>\n",
              "            <td>3496</td>\n",
              "            <td>1</td>\n",
              "        </tr>\n",
              "        <tr>\n",
              "            <td>27</td>\n",
              "            <td>172</td>\n",
              "            <td>24</td>\n",
              "            <td>1066</td>\n",
              "            <td>1</td>\n",
              "        </tr>\n",
              "        <tr>\n",
              "            <td>28</td>\n",
              "            <td>162</td>\n",
              "            <td>31</td>\n",
              "            <td>1435</td>\n",
              "            <td>1</td>\n",
              "        </tr>\n",
              "        <tr>\n",
              "            <td>29</td>\n",
              "            <td>234</td>\n",
              "            <td>44</td>\n",
              "            <td>3134</td>\n",
              "            <td>1</td>\n",
              "        </tr>\n",
              "        <tr>\n",
              "            <td>30</td>\n",
              "            <td>183</td>\n",
              "            <td>36</td>\n",
              "            <td>3819</td>\n",
              "            <td>1</td>\n",
              "        </tr>\n",
              "    </tbody>\n",
              "</table>"
            ],
            "text/plain": [
              "[(1, 177, 44, 1233, 1),\n",
              " (2, 216, 59, 3088, 1),\n",
              " (3, 183, 48, 3374, 1),\n",
              " (4, 176, 10, 1177, 1),\n",
              " (5, 184, 46, 2484, 1),\n",
              " (6, 162, 12, 1417, 1),\n",
              " (7, 250, 3, 2371, 1),\n",
              " (8, 233, 48, 2804, 1),\n",
              " (9, 150, 11, 1861, 1),\n",
              " (10, 164, 29, 1187, 1),\n",
              " (11, 189, 12, 2888, 1),\n",
              " (12, 232, 32, 3253, 1),\n",
              " (13, 198, 1, 3667, 1),\n",
              " (14, 275, 29, 2602, 1),\n",
              " (15, 152, 43, 1009, 1),\n",
              " (16, 227, 45, 2707, 1),\n",
              " (17, 143, 6, 1194, 1),\n",
              " (18, 227, 36, 3952, 1),\n",
              " (19, 239, 18, 2495, 1),\n",
              " (20, 145, 45, 1059, 1),\n",
              " (21, 161, 38, 1521, 1),\n",
              " (22, 232, 51, 2899, 1),\n",
              " (23, 156, 2, 1750, 1),\n",
              " (24, 211, 12, 3922, 1),\n",
              " (25, 251, 28, 3561, 1),\n",
              " (26, 225, 29, 3496, 1),\n",
              " (27, 172, 24, 1066, 1),\n",
              " (28, 162, 31, 1435, 1),\n",
              " (29, 234, 44, 3134, 1),\n",
              " (30, 183, 36, 3819, 1)]"
            ]
          },
          "execution_count": 66,
          "metadata": {},
          "output_type": "execute_result"
        }
      ],
      "source": [
        "%%sql\n",
        "\n",
        "SELECT * FROM Product;"
      ]
    },
    {
      "cell_type": "markdown",
      "id": "98505ff2",
      "metadata": {
        "id": "98505ff2"
      },
      "source": [
        "#### Melihat Daftar Keseluruhan Tabel yang Telah Dibuat"
      ]
    },
    {
      "cell_type": "code",
      "execution_count": null,
      "id": "df4bc493",
      "metadata": {
        "id": "df4bc493",
        "outputId": "2830e626-3a2d-4101-eac1-fa7b6c027a05"
      },
      "outputs": [
        {
          "name": "stdout",
          "output_type": "stream",
          "text": [
            " * mysql+mysqldb://root@localhost\n",
            "4 rows affected.\n"
          ]
        },
        {
          "data": {
            "text/html": [
              "<table>\n",
              "    <thead>\n",
              "        <tr>\n",
              "            <th>Tables_in_databasetubes</th>\n",
              "        </tr>\n",
              "    </thead>\n",
              "    <tbody>\n",
              "        <tr>\n",
              "            <td>customer</td>\n",
              "        </tr>\n",
              "        <tr>\n",
              "            <td>product</td>\n",
              "        </tr>\n",
              "        <tr>\n",
              "            <td>shipment_mode</td>\n",
              "        </tr>\n",
              "        <tr>\n",
              "            <td>warehouse</td>\n",
              "        </tr>\n",
              "    </tbody>\n",
              "</table>"
            ],
            "text/plain": [
              "[('customer',), ('product',), ('shipment_mode',), ('warehouse',)]"
            ]
          },
          "execution_count": 67,
          "metadata": {},
          "output_type": "execute_result"
        }
      ],
      "source": [
        "%%sql\n",
        "\n",
        "SHOW TABLES;"
      ]
    },
    {
      "cell_type": "markdown",
      "id": "b25176a4",
      "metadata": {
        "id": "b25176a4"
      },
      "source": [
        "## B. Data Manipulation Language (DML)"
      ]
    },
    {
      "cell_type": "markdown",
      "id": "f5d73dc9",
      "metadata": {
        "id": "f5d73dc9"
      },
      "source": [
        "### Melakukan Update pada Tabel"
      ]
    },
    {
      "cell_type": "code",
      "execution_count": null,
      "id": "7ad5b9ea",
      "metadata": {
        "id": "7ad5b9ea",
        "outputId": "bdc3c67d-935f-4c35-d478-c4dbda0622e2"
      },
      "outputs": [
        {
          "name": "stdout",
          "output_type": "stream",
          "text": [
            " * mysql+mysqldb://root@localhost\n",
            "1 rows affected.\n"
          ]
        },
        {
          "data": {
            "text/plain": [
              "[]"
            ]
          },
          "execution_count": 118,
          "metadata": {},
          "output_type": "execute_result"
        }
      ],
      "source": [
        "%%sql\n",
        "\n",
        "UPDATE Product\n",
        "SET Discount_offered = 25\n",
        "WHERE ID = 1;"
      ]
    },
    {
      "cell_type": "code",
      "execution_count": null,
      "id": "162944a0",
      "metadata": {
        "id": "162944a0",
        "outputId": "88383748-2a8f-4185-8c05-1508819f35ab"
      },
      "outputs": [
        {
          "name": "stdout",
          "output_type": "stream",
          "text": [
            " * mysql+mysqldb://root@localhost\n",
            "5 rows affected.\n"
          ]
        },
        {
          "data": {
            "text/html": [
              "<table>\n",
              "    <thead>\n",
              "        <tr>\n",
              "            <th>ID</th>\n",
              "            <th>Cost_of_the_Product</th>\n",
              "            <th>Discount_offered</th>\n",
              "            <th>Weight_in_gms</th>\n",
              "            <th>Reached_on_Time_Y_N</th>\n",
              "        </tr>\n",
              "    </thead>\n",
              "    <tbody>\n",
              "        <tr>\n",
              "            <td>1</td>\n",
              "            <td>177</td>\n",
              "            <td>25</td>\n",
              "            <td>1233</td>\n",
              "            <td>1</td>\n",
              "        </tr>\n",
              "        <tr>\n",
              "            <td>2</td>\n",
              "            <td>216</td>\n",
              "            <td>59</td>\n",
              "            <td>3088</td>\n",
              "            <td>1</td>\n",
              "        </tr>\n",
              "        <tr>\n",
              "            <td>3</td>\n",
              "            <td>183</td>\n",
              "            <td>48</td>\n",
              "            <td>3374</td>\n",
              "            <td>1</td>\n",
              "        </tr>\n",
              "        <tr>\n",
              "            <td>4</td>\n",
              "            <td>176</td>\n",
              "            <td>10</td>\n",
              "            <td>1177</td>\n",
              "            <td>1</td>\n",
              "        </tr>\n",
              "        <tr>\n",
              "            <td>5</td>\n",
              "            <td>184</td>\n",
              "            <td>46</td>\n",
              "            <td>2484</td>\n",
              "            <td>1</td>\n",
              "        </tr>\n",
              "    </tbody>\n",
              "</table>"
            ],
            "text/plain": [
              "[(1, 177, 25, 1233, 1),\n",
              " (2, 216, 59, 3088, 1),\n",
              " (3, 183, 48, 3374, 1),\n",
              " (4, 176, 10, 1177, 1),\n",
              " (5, 184, 46, 2484, 1)]"
            ]
          },
          "execution_count": 119,
          "metadata": {},
          "output_type": "execute_result"
        }
      ],
      "source": [
        "%%sql\n",
        "\n",
        "SELECT *\n",
        "FROM product LIMIT 5;"
      ]
    },
    {
      "cell_type": "code",
      "execution_count": null,
      "id": "8f91b36c",
      "metadata": {
        "id": "8f91b36c",
        "outputId": "24968228-7269-40ce-e6ae-3a98261f2e7b"
      },
      "outputs": [
        {
          "name": "stdout",
          "output_type": "stream",
          "text": [
            " * mysql+mysqldb://root@localhost\n",
            "1 rows affected.\n"
          ]
        },
        {
          "data": {
            "text/plain": [
              "[]"
            ]
          },
          "execution_count": 120,
          "metadata": {},
          "output_type": "execute_result"
        }
      ],
      "source": [
        "%%sql\n",
        "\n",
        "UPDATE Customer\n",
        "SET Customer_rating = 5, Prior_purchases = 2 ,Gender = 'M'\n",
        "WHERE ID = 3;"
      ]
    },
    {
      "cell_type": "code",
      "execution_count": null,
      "id": "d843b21f",
      "metadata": {
        "id": "d843b21f",
        "outputId": "33482a31-d381-416f-c97d-b94a602c14f7"
      },
      "outputs": [
        {
          "name": "stdout",
          "output_type": "stream",
          "text": [
            " * mysql+mysqldb://root@localhost\n",
            "5 rows affected.\n"
          ]
        },
        {
          "data": {
            "text/html": [
              "<table>\n",
              "    <thead>\n",
              "        <tr>\n",
              "            <th>ID</th>\n",
              "            <th>Customer_care_calls</th>\n",
              "            <th>Customer_rating</th>\n",
              "            <th>Prior_purchases</th>\n",
              "            <th>Product_importance</th>\n",
              "            <th>Gender</th>\n",
              "        </tr>\n",
              "    </thead>\n",
              "    <tbody>\n",
              "        <tr>\n",
              "            <td>1</td>\n",
              "            <td>4</td>\n",
              "            <td>2</td>\n",
              "            <td>3</td>\n",
              "            <td>low</td>\n",
              "            <td>F</td>\n",
              "        </tr>\n",
              "        <tr>\n",
              "            <td>2</td>\n",
              "            <td>4</td>\n",
              "            <td>5</td>\n",
              "            <td>2</td>\n",
              "            <td>low</td>\n",
              "            <td>M</td>\n",
              "        </tr>\n",
              "        <tr>\n",
              "            <td>3</td>\n",
              "            <td>2</td>\n",
              "            <td>5</td>\n",
              "            <td>2</td>\n",
              "            <td>low</td>\n",
              "            <td>M</td>\n",
              "        </tr>\n",
              "        <tr>\n",
              "            <td>4</td>\n",
              "            <td>3</td>\n",
              "            <td>3</td>\n",
              "            <td>4</td>\n",
              "            <td>medium</td>\n",
              "            <td>M</td>\n",
              "        </tr>\n",
              "        <tr>\n",
              "            <td>5</td>\n",
              "            <td>2</td>\n",
              "            <td>2</td>\n",
              "            <td>3</td>\n",
              "            <td>medium</td>\n",
              "            <td>F</td>\n",
              "        </tr>\n",
              "    </tbody>\n",
              "</table>"
            ],
            "text/plain": [
              "[(1, 4, 2, 3, 'low', 'F'),\n",
              " (2, 4, 5, 2, 'low', 'M'),\n",
              " (3, 2, 5, 2, 'low', 'M'),\n",
              " (4, 3, 3, 4, 'medium', 'M'),\n",
              " (5, 2, 2, 3, 'medium', 'F')]"
            ]
          },
          "execution_count": 121,
          "metadata": {},
          "output_type": "execute_result"
        }
      ],
      "source": [
        "%%sql\n",
        "\n",
        "SELECT *\n",
        "FROM Customer LIMIT 5;"
      ]
    },
    {
      "cell_type": "code",
      "execution_count": null,
      "id": "8dcfb16c",
      "metadata": {
        "id": "8dcfb16c",
        "outputId": "37185326-f5d2-47b0-e1f7-da2fbadd1a5b"
      },
      "outputs": [
        {
          "name": "stdout",
          "output_type": "stream",
          "text": [
            " * mysql+mysqldb://root@localhost\n",
            "1 rows affected.\n"
          ]
        },
        {
          "data": {
            "text/plain": [
              "[]"
            ]
          },
          "execution_count": 122,
          "metadata": {},
          "output_type": "execute_result"
        }
      ],
      "source": [
        "%%sql\n",
        "\n",
        "UPDATE Shipment_Mode\n",
        "SET Mode_of_Shipment = 'Ship'\n",
        "WHERE ID = 3;"
      ]
    },
    {
      "cell_type": "code",
      "execution_count": null,
      "id": "dfb91cb2",
      "metadata": {
        "id": "dfb91cb2",
        "outputId": "9f21309c-f4c3-47a0-9613-2819f9bd0f4b"
      },
      "outputs": [
        {
          "name": "stdout",
          "output_type": "stream",
          "text": [
            " * mysql+mysqldb://root@localhost\n",
            "5 rows affected.\n"
          ]
        },
        {
          "data": {
            "text/html": [
              "<table>\n",
              "    <thead>\n",
              "        <tr>\n",
              "            <th>ID</th>\n",
              "            <th>Mode_of_Shipment</th>\n",
              "        </tr>\n",
              "    </thead>\n",
              "    <tbody>\n",
              "        <tr>\n",
              "            <td>1</td>\n",
              "            <td>Flight</td>\n",
              "        </tr>\n",
              "        <tr>\n",
              "            <td>2</td>\n",
              "            <td>Flight</td>\n",
              "        </tr>\n",
              "        <tr>\n",
              "            <td>3</td>\n",
              "            <td>Ship</td>\n",
              "        </tr>\n",
              "        <tr>\n",
              "            <td>4</td>\n",
              "            <td>Flight</td>\n",
              "        </tr>\n",
              "        <tr>\n",
              "            <td>5</td>\n",
              "            <td>Flight</td>\n",
              "        </tr>\n",
              "    </tbody>\n",
              "</table>"
            ],
            "text/plain": [
              "[(1, 'Flight'), (2, 'Flight'), (3, 'Ship'), (4, 'Flight'), (5, 'Flight')]"
            ]
          },
          "execution_count": 123,
          "metadata": {},
          "output_type": "execute_result"
        }
      ],
      "source": [
        "%%sql\n",
        "\n",
        "SELECT *\n",
        "FROM Shipment_Mode LIMIT 5;"
      ]
    },
    {
      "cell_type": "markdown",
      "id": "7363a198",
      "metadata": {
        "id": "7363a198"
      },
      "source": [
        "### Melakukan Select pada Tabel untuk Melihat Baris yang Sedang Diperlukan"
      ]
    },
    {
      "cell_type": "code",
      "execution_count": null,
      "id": "cb56fc8f",
      "metadata": {
        "id": "cb56fc8f",
        "outputId": "6fcc4eda-1819-4692-c6b9-bec7daccf4da"
      },
      "outputs": [
        {
          "name": "stdout",
          "output_type": "stream",
          "text": [
            " * mysql+mysqldb://root@localhost\n",
            "10 rows affected.\n"
          ]
        },
        {
          "data": {
            "text/html": [
              "<table>\n",
              "    <thead>\n",
              "        <tr>\n",
              "            <th>ID</th>\n",
              "            <th>Customer_rating</th>\n",
              "            <th>Gender</th>\n",
              "        </tr>\n",
              "    </thead>\n",
              "    <tbody>\n",
              "        <tr>\n",
              "            <td>1</td>\n",
              "            <td>2</td>\n",
              "            <td>F</td>\n",
              "        </tr>\n",
              "        <tr>\n",
              "            <td>2</td>\n",
              "            <td>5</td>\n",
              "            <td>M</td>\n",
              "        </tr>\n",
              "        <tr>\n",
              "            <td>3</td>\n",
              "            <td>5</td>\n",
              "            <td>M</td>\n",
              "        </tr>\n",
              "        <tr>\n",
              "            <td>4</td>\n",
              "            <td>3</td>\n",
              "            <td>M</td>\n",
              "        </tr>\n",
              "        <tr>\n",
              "            <td>5</td>\n",
              "            <td>2</td>\n",
              "            <td>F</td>\n",
              "        </tr>\n",
              "        <tr>\n",
              "            <td>6</td>\n",
              "            <td>1</td>\n",
              "            <td>F</td>\n",
              "        </tr>\n",
              "        <tr>\n",
              "            <td>7</td>\n",
              "            <td>4</td>\n",
              "            <td>F</td>\n",
              "        </tr>\n",
              "        <tr>\n",
              "            <td>8</td>\n",
              "            <td>1</td>\n",
              "            <td>F</td>\n",
              "        </tr>\n",
              "        <tr>\n",
              "            <td>9</td>\n",
              "            <td>4</td>\n",
              "            <td>F</td>\n",
              "        </tr>\n",
              "        <tr>\n",
              "            <td>10</td>\n",
              "            <td>2</td>\n",
              "            <td>F</td>\n",
              "        </tr>\n",
              "    </tbody>\n",
              "</table>"
            ],
            "text/plain": [
              "[(1, 2, 'F'),\n",
              " (2, 5, 'M'),\n",
              " (3, 5, 'M'),\n",
              " (4, 3, 'M'),\n",
              " (5, 2, 'F'),\n",
              " (6, 1, 'F'),\n",
              " (7, 4, 'F'),\n",
              " (8, 1, 'F'),\n",
              " (9, 4, 'F'),\n",
              " (10, 2, 'F')]"
            ]
          },
          "execution_count": 124,
          "metadata": {},
          "output_type": "execute_result"
        }
      ],
      "source": [
        "%%sql\n",
        "\n",
        "SELECT ID, Customer_rating, Gender\n",
        "FROM Customer\n",
        "LIMIT 10;"
      ]
    },
    {
      "cell_type": "code",
      "execution_count": null,
      "id": "68d6e1d5",
      "metadata": {
        "id": "68d6e1d5",
        "outputId": "f550091d-4458-4ec3-f586-0bffb53f898f"
      },
      "outputs": [
        {
          "name": "stdout",
          "output_type": "stream",
          "text": [
            " * mysql+mysqldb://root@localhost\n",
            "10 rows affected.\n"
          ]
        },
        {
          "data": {
            "text/html": [
              "<table>\n",
              "    <thead>\n",
              "        <tr>\n",
              "            <th>ID</th>\n",
              "            <th>Cost_of_the_Product</th>\n",
              "            <th>Weight_in_gms</th>\n",
              "        </tr>\n",
              "    </thead>\n",
              "    <tbody>\n",
              "        <tr>\n",
              "            <td>1</td>\n",
              "            <td>177</td>\n",
              "            <td>1233</td>\n",
              "        </tr>\n",
              "        <tr>\n",
              "            <td>2</td>\n",
              "            <td>216</td>\n",
              "            <td>3088</td>\n",
              "        </tr>\n",
              "        <tr>\n",
              "            <td>3</td>\n",
              "            <td>183</td>\n",
              "            <td>3374</td>\n",
              "        </tr>\n",
              "        <tr>\n",
              "            <td>4</td>\n",
              "            <td>176</td>\n",
              "            <td>1177</td>\n",
              "        </tr>\n",
              "        <tr>\n",
              "            <td>5</td>\n",
              "            <td>184</td>\n",
              "            <td>2484</td>\n",
              "        </tr>\n",
              "        <tr>\n",
              "            <td>6</td>\n",
              "            <td>162</td>\n",
              "            <td>1417</td>\n",
              "        </tr>\n",
              "        <tr>\n",
              "            <td>7</td>\n",
              "            <td>250</td>\n",
              "            <td>2371</td>\n",
              "        </tr>\n",
              "        <tr>\n",
              "            <td>8</td>\n",
              "            <td>233</td>\n",
              "            <td>2804</td>\n",
              "        </tr>\n",
              "        <tr>\n",
              "            <td>9</td>\n",
              "            <td>150</td>\n",
              "            <td>1861</td>\n",
              "        </tr>\n",
              "        <tr>\n",
              "            <td>10</td>\n",
              "            <td>164</td>\n",
              "            <td>1187</td>\n",
              "        </tr>\n",
              "    </tbody>\n",
              "</table>"
            ],
            "text/plain": [
              "[(1, 177, 1233),\n",
              " (2, 216, 3088),\n",
              " (3, 183, 3374),\n",
              " (4, 176, 1177),\n",
              " (5, 184, 2484),\n",
              " (6, 162, 1417),\n",
              " (7, 250, 2371),\n",
              " (8, 233, 2804),\n",
              " (9, 150, 1861),\n",
              " (10, 164, 1187)]"
            ]
          },
          "execution_count": 125,
          "metadata": {},
          "output_type": "execute_result"
        }
      ],
      "source": [
        "%%sql\n",
        "\n",
        "SELECT ID, Cost_of_the_Product, Weight_in_gms\n",
        "FROM Product\n",
        "LIMIT 10;"
      ]
    },
    {
      "cell_type": "code",
      "execution_count": null,
      "id": "f336deed",
      "metadata": {
        "id": "f336deed",
        "outputId": "0bd9fc52-85d4-4902-a8b0-f0f117535b14"
      },
      "outputs": [
        {
          "name": "stdout",
          "output_type": "stream",
          "text": [
            " * mysql+mysqldb://root@localhost\n",
            "10 rows affected.\n"
          ]
        },
        {
          "data": {
            "text/html": [
              "<table>\n",
              "    <thead>\n",
              "        <tr>\n",
              "            <th>ID</th>\n",
              "            <th>Customer_rating</th>\n",
              "            <th>Product_importance</th>\n",
              "        </tr>\n",
              "    </thead>\n",
              "    <tbody>\n",
              "        <tr>\n",
              "            <td>1</td>\n",
              "            <td>2</td>\n",
              "            <td>low</td>\n",
              "        </tr>\n",
              "        <tr>\n",
              "            <td>2</td>\n",
              "            <td>5</td>\n",
              "            <td>low</td>\n",
              "        </tr>\n",
              "        <tr>\n",
              "            <td>3</td>\n",
              "            <td>5</td>\n",
              "            <td>low</td>\n",
              "        </tr>\n",
              "        <tr>\n",
              "            <td>4</td>\n",
              "            <td>3</td>\n",
              "            <td>medium</td>\n",
              "        </tr>\n",
              "        <tr>\n",
              "            <td>5</td>\n",
              "            <td>2</td>\n",
              "            <td>medium</td>\n",
              "        </tr>\n",
              "        <tr>\n",
              "            <td>6</td>\n",
              "            <td>1</td>\n",
              "            <td>medium</td>\n",
              "        </tr>\n",
              "        <tr>\n",
              "            <td>7</td>\n",
              "            <td>4</td>\n",
              "            <td>low</td>\n",
              "        </tr>\n",
              "        <tr>\n",
              "            <td>8</td>\n",
              "            <td>1</td>\n",
              "            <td>low</td>\n",
              "        </tr>\n",
              "        <tr>\n",
              "            <td>9</td>\n",
              "            <td>4</td>\n",
              "            <td>low</td>\n",
              "        </tr>\n",
              "        <tr>\n",
              "            <td>10</td>\n",
              "            <td>2</td>\n",
              "            <td>medium</td>\n",
              "        </tr>\n",
              "    </tbody>\n",
              "</table>"
            ],
            "text/plain": [
              "[(1, 2, 'low'),\n",
              " (2, 5, 'low'),\n",
              " (3, 5, 'low'),\n",
              " (4, 3, 'medium'),\n",
              " (5, 2, 'medium'),\n",
              " (6, 1, 'medium'),\n",
              " (7, 4, 'low'),\n",
              " (8, 1, 'low'),\n",
              " (9, 4, 'low'),\n",
              " (10, 2, 'medium')]"
            ]
          },
          "execution_count": 139,
          "metadata": {},
          "output_type": "execute_result"
        }
      ],
      "source": [
        "%%sql\n",
        "\n",
        "SELECT ID, Customer_rating, Product_importance\n",
        "FROM Customer\n",
        "LIMIT 10;"
      ]
    },
    {
      "cell_type": "markdown",
      "id": "8ddd4025",
      "metadata": {
        "id": "8ddd4025"
      },
      "source": [
        "# Relational Schema\n",
        "Mengecek Constraint pada tiap tabel"
      ]
    },
    {
      "cell_type": "code",
      "execution_count": null,
      "id": "4f0d8c20",
      "metadata": {
        "id": "4f0d8c20",
        "outputId": "d2435314-80f8-422a-924b-9a2306056c93"
      },
      "outputs": [
        {
          "name": "stdout",
          "output_type": "stream",
          "text": [
            " * mysql+mysqldb://root@localhost\n",
            "1 rows affected.\n"
          ]
        },
        {
          "data": {
            "text/html": [
              "<table>\n",
              "    <thead>\n",
              "        <tr>\n",
              "            <th>Table</th>\n",
              "            <th>Create Table</th>\n",
              "        </tr>\n",
              "    </thead>\n",
              "    <tbody>\n",
              "        <tr>\n",
              "            <td>Warehouse</td>\n",
              "            <td>CREATE TABLE `warehouse` (<br>  `ID` int(11) NOT NULL,<br>  `Warehouse_block` varchar(1) DEFAULT NULL,<br>  PRIMARY KEY (`ID`)<br>) ENGINE=InnoDB DEFAULT CHARSET=utf8mb4 COLLATE=utf8mb4_general_ci</td>\n",
              "        </tr>\n",
              "    </tbody>\n",
              "</table>"
            ],
            "text/plain": [
              "[('Warehouse', 'CREATE TABLE `warehouse` (\\n  `ID` int(11) NOT NULL,\\n  `Warehouse_block` varchar(1) DEFAULT NULL,\\n  PRIMARY KEY (`ID`)\\n) ENGINE=InnoDB DEFAULT CHARSET=utf8mb4 COLLATE=utf8mb4_general_ci')]"
            ]
          },
          "execution_count": 68,
          "metadata": {},
          "output_type": "execute_result"
        }
      ],
      "source": [
        "%%sql\n",
        "\n",
        "SHOW CREATE TABLE Warehouse;"
      ]
    },
    {
      "cell_type": "code",
      "execution_count": null,
      "id": "be39291f",
      "metadata": {
        "id": "be39291f",
        "outputId": "ac713fa3-2cf8-448f-c5e9-842c3510fc77"
      },
      "outputs": [
        {
          "name": "stdout",
          "output_type": "stream",
          "text": [
            " * mysql+mysqldb://root@localhost\n",
            "1 rows affected.\n"
          ]
        },
        {
          "data": {
            "text/html": [
              "<table>\n",
              "    <thead>\n",
              "        <tr>\n",
              "            <th>Table</th>\n",
              "            <th>Create Table</th>\n",
              "        </tr>\n",
              "    </thead>\n",
              "    <tbody>\n",
              "        <tr>\n",
              "            <td>Shipment_Mode</td>\n",
              "            <td>CREATE TABLE `shipment_mode` (<br>  `ID` int(11) DEFAULT NULL,<br>  `Mode_of_Shipment` varchar(10) DEFAULT NULL,<br>  KEY `ID` (`ID`),<br>  CONSTRAINT `shipment_mode_ibfk_1` FOREIGN KEY (`ID`) REFERENCES `warehouse` (`ID`)<br>) ENGINE=InnoDB DEFAULT CHARSET=utf8mb4 COLLATE=utf8mb4_general_ci</td>\n",
              "        </tr>\n",
              "    </tbody>\n",
              "</table>"
            ],
            "text/plain": [
              "[('Shipment_Mode', 'CREATE TABLE `shipment_mode` (\\n  `ID` int(11) DEFAULT NULL,\\n  `Mode_of_Shipment` varchar(10) DEFAULT NULL,\\n  KEY `ID` (`ID`),\\n  CONSTRAINT `shipment_mode_ibfk_1` FOREIGN KEY (`ID`) REFERENCES `warehouse` (`ID`)\\n) ENGINE=InnoDB DEFAULT CHARSET=utf8mb4 COLLATE=utf8mb4_general_ci')]"
            ]
          },
          "execution_count": 69,
          "metadata": {},
          "output_type": "execute_result"
        }
      ],
      "source": [
        "%%sql\n",
        "\n",
        "SHOW CREATE TABLE Shipment_Mode;"
      ]
    },
    {
      "cell_type": "code",
      "execution_count": null,
      "id": "8d0b378e",
      "metadata": {
        "id": "8d0b378e",
        "outputId": "fc92b1d8-53cd-4383-f6c7-befa2447de6c"
      },
      "outputs": [
        {
          "name": "stdout",
          "output_type": "stream",
          "text": [
            " * mysql+mysqldb://root@localhost\n",
            "1 rows affected.\n"
          ]
        },
        {
          "data": {
            "text/html": [
              "<table>\n",
              "    <thead>\n",
              "        <tr>\n",
              "            <th>Table</th>\n",
              "            <th>Create Table</th>\n",
              "        </tr>\n",
              "    </thead>\n",
              "    <tbody>\n",
              "        <tr>\n",
              "            <td>Customer</td>\n",
              "            <td>CREATE TABLE `customer` (<br>  `ID` int(11) DEFAULT NULL,<br>  `Customer_care_calls` int(11) DEFAULT NULL,<br>  `Customer_rating` int(11) DEFAULT NULL,<br>  `Prior_purchases` int(11) DEFAULT NULL,<br>  `Product_importance` varchar(10) DEFAULT NULL,<br>  `Gender` enum(&#x27;F&#x27;,&#x27;M&#x27;) DEFAULT NULL,<br>  KEY `ID` (`ID`),<br>  CONSTRAINT `customer_ibfk_1` FOREIGN KEY (`ID`) REFERENCES `warehouse` (`ID`)<br>) ENGINE=InnoDB DEFAULT CHARSET=utf8mb4 COLLATE=utf8mb4_general_ci</td>\n",
              "        </tr>\n",
              "    </tbody>\n",
              "</table>"
            ],
            "text/plain": [
              "[('Customer', \"CREATE TABLE `customer` (\\n  `ID` int(11) DEFAULT NULL,\\n  `Customer_care_calls` int(11) DEFAULT NULL,\\n  `Customer_rating` int(11) DEFAULT NULL,\\n   ... (149 characters truncated) ... \\n  CONSTRAINT `customer_ibfk_1` FOREIGN KEY (`ID`) REFERENCES `warehouse` (`ID`)\\n) ENGINE=InnoDB DEFAULT CHARSET=utf8mb4 COLLATE=utf8mb4_general_ci\")]"
            ]
          },
          "execution_count": 70,
          "metadata": {},
          "output_type": "execute_result"
        }
      ],
      "source": [
        "%%sql\n",
        "\n",
        "SHOW CREATE TABLE Customer;"
      ]
    },
    {
      "cell_type": "code",
      "execution_count": null,
      "id": "f069c97a",
      "metadata": {
        "scrolled": true,
        "id": "f069c97a",
        "outputId": "ddf5a377-8290-4e25-f09c-7e8bb75104ec"
      },
      "outputs": [
        {
          "name": "stdout",
          "output_type": "stream",
          "text": [
            " * mysql+mysqldb://root@localhost\n",
            "1 rows affected.\n"
          ]
        },
        {
          "data": {
            "text/html": [
              "<table>\n",
              "    <thead>\n",
              "        <tr>\n",
              "            <th>Table</th>\n",
              "            <th>Create Table</th>\n",
              "        </tr>\n",
              "    </thead>\n",
              "    <tbody>\n",
              "        <tr>\n",
              "            <td>Product</td>\n",
              "            <td>CREATE TABLE `product` (<br>  `ID` int(11) DEFAULT NULL,<br>  `Cost_of_the_Product` int(11) DEFAULT NULL,<br>  `Discount_offered` int(11) DEFAULT NULL,<br>  `Weight_in_gms` int(11) DEFAULT NULL,<br>  `Reached_on_Time_Y_N` int(11) DEFAULT NULL,<br>  KEY `ID` (`ID`),<br>  CONSTRAINT `product_ibfk_1` FOREIGN KEY (`ID`) REFERENCES `warehouse` (`ID`)<br>) ENGINE=InnoDB DEFAULT CHARSET=utf8mb4 COLLATE=utf8mb4_general_ci</td>\n",
              "        </tr>\n",
              "    </tbody>\n",
              "</table>"
            ],
            "text/plain": [
              "[('Product', 'CREATE TABLE `product` (\\n  `ID` int(11) DEFAULT NULL,\\n  `Cost_of_the_Product` int(11) DEFAULT NULL,\\n  `Discount_offered` int(11) DEFAULT NULL,\\n   ... (103 characters truncated) ... ,\\n  CONSTRAINT `product_ibfk_1` FOREIGN KEY (`ID`) REFERENCES `warehouse` (`ID`)\\n) ENGINE=InnoDB DEFAULT CHARSET=utf8mb4 COLLATE=utf8mb4_general_ci')]"
            ]
          },
          "execution_count": 71,
          "metadata": {},
          "output_type": "execute_result"
        }
      ],
      "source": [
        "%%sql\n",
        "\n",
        "SHOW CREATE TABLE Product;"
      ]
    },
    {
      "cell_type": "markdown",
      "id": "3050f4fe",
      "metadata": {
        "id": "3050f4fe"
      },
      "source": [
        "# Melakukan Advance Query pada Dataset\n",
        "Dari 30 data teratas"
      ]
    },
    {
      "cell_type": "markdown",
      "id": "64ca0367",
      "metadata": {
        "id": "64ca0367"
      },
      "source": [
        "## 1. Menampilkan rata-rata Customer Rating berdasarkan Gender"
      ]
    },
    {
      "cell_type": "code",
      "execution_count": null,
      "id": "01c957d8",
      "metadata": {
        "id": "01c957d8",
        "outputId": "ed6ab466-8610-49ef-b640-a01155717620"
      },
      "outputs": [
        {
          "name": "stdout",
          "output_type": "stream",
          "text": [
            " * mysql+mysqldb://root@localhost\n",
            "2 rows affected.\n"
          ]
        },
        {
          "data": {
            "text/html": [
              "<table>\n",
              "    <thead>\n",
              "        <tr>\n",
              "            <th>Gender</th>\n",
              "            <th>Average_Rating</th>\n",
              "        </tr>\n",
              "    </thead>\n",
              "    <tbody>\n",
              "        <tr>\n",
              "            <td>F</td>\n",
              "            <td>2.9375</td>\n",
              "        </tr>\n",
              "        <tr>\n",
              "            <td>M</td>\n",
              "            <td>3.7143</td>\n",
              "        </tr>\n",
              "    </tbody>\n",
              "</table>"
            ],
            "text/plain": [
              "[('F', Decimal('2.9375')), ('M', Decimal('3.7143'))]"
            ]
          },
          "execution_count": 140,
          "metadata": {},
          "output_type": "execute_result"
        }
      ],
      "source": [
        "%%sql\n",
        "\n",
        "SELECT Gender, AVG(Customer_rating) AS Average_Rating\n",
        "FROM Customer\n",
        "GROUP BY Gender;"
      ]
    },
    {
      "cell_type": "markdown",
      "id": "372cdafd",
      "metadata": {
        "id": "372cdafd"
      },
      "source": [
        "## 2. Menampilkan jumlah Customer Care Calls yang dilakukan oleh setiap Mode of Shipment"
      ]
    },
    {
      "cell_type": "code",
      "execution_count": null,
      "id": "bd333090",
      "metadata": {
        "id": "bd333090",
        "outputId": "d237b6c5-3f8f-4239-d8fe-426f99bce15f"
      },
      "outputs": [
        {
          "name": "stdout",
          "output_type": "stream",
          "text": [
            " * mysql+mysqldb://root@localhost\n",
            "2 rows affected.\n"
          ]
        },
        {
          "data": {
            "text/html": [
              "<table>\n",
              "    <thead>\n",
              "        <tr>\n",
              "            <th>Mode_of_Shipment</th>\n",
              "            <th>Total_Calls</th>\n",
              "        </tr>\n",
              "    </thead>\n",
              "    <tbody>\n",
              "        <tr>\n",
              "            <td>Flight</td>\n",
              "            <td>1680</td>\n",
              "        </tr>\n",
              "        <tr>\n",
              "            <td>Ship</td>\n",
              "            <td>1470</td>\n",
              "        </tr>\n",
              "    </tbody>\n",
              "</table>"
            ],
            "text/plain": [
              "[('Flight', Decimal('1680')), ('Ship', Decimal('1470'))]"
            ]
          },
          "execution_count": 141,
          "metadata": {},
          "output_type": "execute_result"
        }
      ],
      "source": [
        "%%sql\n",
        "\n",
        "SELECT Mode_of_Shipment, SUM(Customer_care_calls) AS Total_Calls\n",
        "FROM Shipment_Mode, Customer\n",
        "GROUP BY Mode_of_Shipment;"
      ]
    },
    {
      "cell_type": "markdown",
      "id": "9b982683",
      "metadata": {
        "id": "9b982683"
      },
      "source": [
        "## 3. Menampilkan persentase produk yang sampai tepat waktu"
      ]
    },
    {
      "cell_type": "code",
      "execution_count": null,
      "id": "abd3bac6",
      "metadata": {
        "id": "abd3bac6",
        "outputId": "7e0c56c8-c9bd-4dff-dac5-30106d11a2cb"
      },
      "outputs": [
        {
          "name": "stdout",
          "output_type": "stream",
          "text": [
            " * mysql+mysqldb://root@localhost\n",
            "1 rows affected.\n"
          ]
        },
        {
          "data": {
            "text/html": [
              "<table>\n",
              "    <thead>\n",
              "        <tr>\n",
              "            <th>Total</th>\n",
              "            <th>Reached_on_Time</th>\n",
              "            <th>Percentage</th>\n",
              "        </tr>\n",
              "    </thead>\n",
              "    <tbody>\n",
              "        <tr>\n",
              "            <td>30</td>\n",
              "            <td>0</td>\n",
              "            <td>0.0000</td>\n",
              "        </tr>\n",
              "    </tbody>\n",
              "</table>"
            ],
            "text/plain": [
              "[(30, Decimal('0'), Decimal('0.0000'))]"
            ]
          },
          "execution_count": 142,
          "metadata": {},
          "output_type": "execute_result"
        }
      ],
      "source": [
        "%%sql\n",
        "\n",
        "SELECT COUNT(*) AS Total,\n",
        "       SUM(CASE WHEN Reached_on_Time_Y_N = 'Y' THEN 1 ELSE 0 END) AS Reached_on_Time,\n",
        "       (SUM(CASE WHEN Reached_on_Time_Y_N = 'Y' THEN 1 ELSE 0 END) / COUNT(*)) * 100 AS Percentage\n",
        "FROM Product;"
      ]
    },
    {
      "cell_type": "markdown",
      "id": "5127914c",
      "metadata": {
        "id": "5127914c"
      },
      "source": [
        "## 4. Menampilkan rata-rata Cost of the Product berdasarkan Product Importance"
      ]
    },
    {
      "cell_type": "code",
      "execution_count": null,
      "id": "458ec345",
      "metadata": {
        "id": "458ec345",
        "outputId": "fef7d58d-a4e6-45f3-9c84-683f98067259"
      },
      "outputs": [
        {
          "name": "stdout",
          "output_type": "stream",
          "text": [
            " * mysql+mysqldb://root@localhost\n",
            "3 rows affected.\n"
          ]
        },
        {
          "data": {
            "text/html": [
              "<table>\n",
              "    <thead>\n",
              "        <tr>\n",
              "            <th>Product_importance</th>\n",
              "            <th>Average_Cost</th>\n",
              "        </tr>\n",
              "    </thead>\n",
              "    <tbody>\n",
              "        <tr>\n",
              "            <td>high</td>\n",
              "            <td>196.9667</td>\n",
              "        </tr>\n",
              "        <tr>\n",
              "            <td>low</td>\n",
              "            <td>196.9667</td>\n",
              "        </tr>\n",
              "        <tr>\n",
              "            <td>medium</td>\n",
              "            <td>196.9667</td>\n",
              "        </tr>\n",
              "    </tbody>\n",
              "</table>"
            ],
            "text/plain": [
              "[('high', Decimal('196.9667')),\n",
              " ('low', Decimal('196.9667')),\n",
              " ('medium', Decimal('196.9667'))]"
            ]
          },
          "execution_count": 143,
          "metadata": {},
          "output_type": "execute_result"
        }
      ],
      "source": [
        "%%sql\n",
        "\n",
        "SELECT Product_importance, AVG(Cost_of_the_Product) AS Average_Cost\n",
        "FROM Customer, Product\n",
        "GROUP BY Product_importance;"
      ]
    },
    {
      "cell_type": "markdown",
      "id": "1b25f7a9",
      "metadata": {
        "id": "1b25f7a9"
      },
      "source": [
        "## 5. Menampilkan jumlah Prior Purchases yang dilakukan oleh setiap Customer Rating"
      ]
    },
    {
      "cell_type": "code",
      "execution_count": null,
      "id": "f9a8a5c4",
      "metadata": {
        "id": "f9a8a5c4",
        "outputId": "0f55e54a-7484-4be3-9c79-dc7e7a3078ca"
      },
      "outputs": [
        {
          "name": "stdout",
          "output_type": "stream",
          "text": [
            " * mysql+mysqldb://root@localhost\n",
            "5 rows affected.\n"
          ]
        },
        {
          "data": {
            "text/html": [
              "<table>\n",
              "    <thead>\n",
              "        <tr>\n",
              "            <th>Customer_rating</th>\n",
              "            <th>Total_Purchases</th>\n",
              "        </tr>\n",
              "    </thead>\n",
              "    <tbody>\n",
              "        <tr>\n",
              "            <td>1</td>\n",
              "            <td>19</td>\n",
              "        </tr>\n",
              "        <tr>\n",
              "            <td>2</td>\n",
              "            <td>9</td>\n",
              "        </tr>\n",
              "        <tr>\n",
              "            <td>3</td>\n",
              "            <td>19</td>\n",
              "        </tr>\n",
              "        <tr>\n",
              "            <td>4</td>\n",
              "            <td>15</td>\n",
              "        </tr>\n",
              "        <tr>\n",
              "            <td>5</td>\n",
              "            <td>23</td>\n",
              "        </tr>\n",
              "    </tbody>\n",
              "</table>"
            ],
            "text/plain": [
              "[(1, Decimal('19')),\n",
              " (2, Decimal('9')),\n",
              " (3, Decimal('19')),\n",
              " (4, Decimal('15')),\n",
              " (5, Decimal('23'))]"
            ]
          },
          "execution_count": 144,
          "metadata": {},
          "output_type": "execute_result"
        }
      ],
      "source": [
        "%%sql\n",
        "\n",
        "SELECT Customer_rating, SUM(Prior_purchases) AS Total_Purchases\n",
        "FROM Customer\n",
        "GROUP BY Customer_rating;"
      ]
    },
    {
      "cell_type": "markdown",
      "id": "7703c846",
      "metadata": {
        "id": "7703c846"
      },
      "source": [
        "## 6. Menampilkan berat rata-rata produk berdasarkan Mode of Shipment"
      ]
    },
    {
      "cell_type": "code",
      "execution_count": null,
      "id": "1e6b9760",
      "metadata": {
        "id": "1e6b9760",
        "outputId": "f65c3ebc-747c-44ab-dd7c-7355fe689bdc"
      },
      "outputs": [
        {
          "name": "stdout",
          "output_type": "stream",
          "text": [
            " * mysql+mysqldb://root@localhost\n",
            "2 rows affected.\n"
          ]
        },
        {
          "data": {
            "text/html": [
              "<table>\n",
              "    <thead>\n",
              "        <tr>\n",
              "            <th>Mode_of_Shipment</th>\n",
              "            <th>Average_Weight</th>\n",
              "        </tr>\n",
              "    </thead>\n",
              "    <tbody>\n",
              "        <tr>\n",
              "            <td>Flight</td>\n",
              "            <td>2414.1667</td>\n",
              "        </tr>\n",
              "        <tr>\n",
              "            <td>Ship</td>\n",
              "            <td>2414.1667</td>\n",
              "        </tr>\n",
              "    </tbody>\n",
              "</table>"
            ],
            "text/plain": [
              "[('Flight', Decimal('2414.1667')), ('Ship', Decimal('2414.1667'))]"
            ]
          },
          "execution_count": 145,
          "metadata": {},
          "output_type": "execute_result"
        }
      ],
      "source": [
        "%%sql\n",
        "\n",
        "SELECT Mode_of_Shipment, AVG(Weight_in_gms) AS Average_Weight\n",
        "FROM Shipment_Mode, Product\n",
        "GROUP BY Mode_of_Shipment;"
      ]
    },
    {
      "cell_type": "markdown",
      "id": "5049f3b0",
      "metadata": {
        "id": "5049f3b0"
      },
      "source": [
        "## 7. Menampilkan jumlah produk dengan Discount Offered tertinggi"
      ]
    },
    {
      "cell_type": "code",
      "execution_count": null,
      "id": "70e2ca47",
      "metadata": {
        "id": "70e2ca47",
        "outputId": "4404a2c7-6ace-4066-f404-f87f4222f26b"
      },
      "outputs": [
        {
          "name": "stdout",
          "output_type": "stream",
          "text": [
            " * mysql+mysqldb://root@localhost\n",
            "1 rows affected.\n"
          ]
        },
        {
          "data": {
            "text/html": [
              "<table>\n",
              "    <thead>\n",
              "        <tr>\n",
              "            <th>Discount_offered</th>\n",
              "            <th>Total</th>\n",
              "        </tr>\n",
              "    </thead>\n",
              "    <tbody>\n",
              "        <tr>\n",
              "            <td>59</td>\n",
              "            <td>1</td>\n",
              "        </tr>\n",
              "    </tbody>\n",
              "</table>"
            ],
            "text/plain": [
              "[(59, 1)]"
            ]
          },
          "execution_count": 146,
          "metadata": {},
          "output_type": "execute_result"
        }
      ],
      "source": [
        "%%sql\n",
        "\n",
        "SELECT Discount_offered, COUNT(*) AS Total\n",
        "FROM Product\n",
        "GROUP BY Discount_offered\n",
        "ORDER BY Discount_offered DESC\n",
        "LIMIT 1;"
      ]
    },
    {
      "cell_type": "markdown",
      "id": "1992e72f",
      "metadata": {
        "id": "1992e72f"
      },
      "source": [
        "## 8. Menampilkan produk dengan Cost of the Product tertinggi dan terendah"
      ]
    },
    {
      "cell_type": "code",
      "execution_count": null,
      "id": "beb42608",
      "metadata": {
        "id": "beb42608",
        "outputId": "aae1b4cf-46bd-4782-ffad-5b4f1527f619"
      },
      "outputs": [
        {
          "name": "stdout",
          "output_type": "stream",
          "text": [
            " * mysql+mysqldb://root@localhost\n",
            "2 rows affected.\n"
          ]
        },
        {
          "data": {
            "text/html": [
              "<table>\n",
              "    <thead>\n",
              "        <tr>\n",
              "            <th>ID</th>\n",
              "            <th>Cost_of_the_Product</th>\n",
              "            <th>Discount_offered</th>\n",
              "            <th>Weight_in_gms</th>\n",
              "            <th>Reached_on_Time_Y_N</th>\n",
              "        </tr>\n",
              "    </thead>\n",
              "    <tbody>\n",
              "        <tr>\n",
              "            <td>14</td>\n",
              "            <td>275</td>\n",
              "            <td>29</td>\n",
              "            <td>2602</td>\n",
              "            <td>1</td>\n",
              "        </tr>\n",
              "        <tr>\n",
              "            <td>17</td>\n",
              "            <td>143</td>\n",
              "            <td>6</td>\n",
              "            <td>1194</td>\n",
              "            <td>1</td>\n",
              "        </tr>\n",
              "    </tbody>\n",
              "</table>"
            ],
            "text/plain": [
              "[(14, 275, 29, 2602, 1), (17, 143, 6, 1194, 1)]"
            ]
          },
          "execution_count": 147,
          "metadata": {},
          "output_type": "execute_result"
        }
      ],
      "source": [
        "%%sql\n",
        "\n",
        "SELECT * FROM Product\n",
        "WHERE Cost_of_the_Product = (SELECT MAX(Cost_of_the_Product) FROM Product)\n",
        "   OR Cost_of_the_Product = (SELECT MIN(Cost_of_the_Product) FROM Product);"
      ]
    },
    {
      "cell_type": "markdown",
      "id": "e6ab4759",
      "metadata": {
        "id": "e6ab4759"
      },
      "source": [
        "## 9. Menampilkan mode pengiriman dengan jumlah produk terbanyak"
      ]
    },
    {
      "cell_type": "code",
      "execution_count": null,
      "id": "189c4411",
      "metadata": {
        "id": "189c4411",
        "outputId": "0579c2e3-6d47-4dbf-b54c-add52c7ab242"
      },
      "outputs": [
        {
          "name": "stdout",
          "output_type": "stream",
          "text": [
            " * mysql+mysqldb://root@localhost\n",
            "1 rows affected.\n"
          ]
        },
        {
          "data": {
            "text/html": [
              "<table>\n",
              "    <thead>\n",
              "        <tr>\n",
              "            <th>Mode_of_Shipment</th>\n",
              "            <th>Total</th>\n",
              "        </tr>\n",
              "    </thead>\n",
              "    <tbody>\n",
              "        <tr>\n",
              "            <td>Flight</td>\n",
              "            <td>16</td>\n",
              "        </tr>\n",
              "    </tbody>\n",
              "</table>"
            ],
            "text/plain": [
              "[('Flight', 16)]"
            ]
          },
          "execution_count": 148,
          "metadata": {},
          "output_type": "execute_result"
        }
      ],
      "source": [
        "%%sql\n",
        "\n",
        "SELECT Mode_of_Shipment, COUNT(*) AS Total\n",
        "FROM Shipment_Mode\n",
        "GROUP BY Mode_of_Shipment\n",
        "ORDER BY Total DESC\n",
        "LIMIT 1;"
      ]
    },
    {
      "cell_type": "markdown",
      "id": "b4953e67",
      "metadata": {
        "id": "b4953e67"
      },
      "source": [
        "## 10. Menampilkan jumlah produk berdasarkan Warehouse Block dan Gender"
      ]
    },
    {
      "cell_type": "code",
      "execution_count": null,
      "id": "f6d90536",
      "metadata": {
        "id": "f6d90536",
        "outputId": "5ecbe721-0063-4153-8e10-08ad78c0ecba"
      },
      "outputs": [
        {
          "name": "stdout",
          "output_type": "stream",
          "text": [
            " * mysql+mysqldb://root@localhost\n",
            "10 rows affected.\n"
          ]
        },
        {
          "data": {
            "text/html": [
              "<table>\n",
              "    <thead>\n",
              "        <tr>\n",
              "            <th>Warehouse_block</th>\n",
              "            <th>Gender</th>\n",
              "            <th>Total</th>\n",
              "        </tr>\n",
              "    </thead>\n",
              "    <tbody>\n",
              "        <tr>\n",
              "            <td>A</td>\n",
              "            <td>F</td>\n",
              "            <td>80</td>\n",
              "        </tr>\n",
              "        <tr>\n",
              "            <td>A</td>\n",
              "            <td>M</td>\n",
              "            <td>70</td>\n",
              "        </tr>\n",
              "        <tr>\n",
              "            <td>B</td>\n",
              "            <td>F</td>\n",
              "            <td>80</td>\n",
              "        </tr>\n",
              "        <tr>\n",
              "            <td>B</td>\n",
              "            <td>M</td>\n",
              "            <td>70</td>\n",
              "        </tr>\n",
              "        <tr>\n",
              "            <td>C</td>\n",
              "            <td>F</td>\n",
              "            <td>80</td>\n",
              "        </tr>\n",
              "        <tr>\n",
              "            <td>C</td>\n",
              "            <td>M</td>\n",
              "            <td>70</td>\n",
              "        </tr>\n",
              "        <tr>\n",
              "            <td>D</td>\n",
              "            <td>F</td>\n",
              "            <td>80</td>\n",
              "        </tr>\n",
              "        <tr>\n",
              "            <td>D</td>\n",
              "            <td>M</td>\n",
              "            <td>70</td>\n",
              "        </tr>\n",
              "        <tr>\n",
              "            <td>F</td>\n",
              "            <td>F</td>\n",
              "            <td>160</td>\n",
              "        </tr>\n",
              "        <tr>\n",
              "            <td>F</td>\n",
              "            <td>M</td>\n",
              "            <td>140</td>\n",
              "        </tr>\n",
              "    </tbody>\n",
              "</table>"
            ],
            "text/plain": [
              "[('A', 'F', 80),\n",
              " ('A', 'M', 70),\n",
              " ('B', 'F', 80),\n",
              " ('B', 'M', 70),\n",
              " ('C', 'F', 80),\n",
              " ('C', 'M', 70),\n",
              " ('D', 'F', 80),\n",
              " ('D', 'M', 70),\n",
              " ('F', 'F', 160),\n",
              " ('F', 'M', 140)]"
            ]
          },
          "execution_count": 149,
          "metadata": {},
          "output_type": "execute_result"
        }
      ],
      "source": [
        "%%sql\n",
        "\n",
        "SELECT Warehouse_block, Gender, COUNT(*) AS Total\n",
        "FROM Warehouse, Customer\n",
        "GROUP BY Warehouse_block, Gender;"
      ]
    },
    {
      "cell_type": "markdown",
      "id": "6c052cfc",
      "metadata": {
        "id": "6c052cfc"
      },
      "source": [
        "## 11. Menampilkan jumlah Customer berdasarkan Warehouse Block"
      ]
    },
    {
      "cell_type": "code",
      "execution_count": null,
      "id": "a25a94a0",
      "metadata": {
        "id": "a25a94a0",
        "outputId": "43ff4f1c-9871-4720-82a7-69747bbfdcfe"
      },
      "outputs": [
        {
          "name": "stdout",
          "output_type": "stream",
          "text": [
            " * mysql+mysqldb://root@localhost\n",
            "5 rows affected.\n"
          ]
        },
        {
          "data": {
            "text/html": [
              "<table>\n",
              "    <thead>\n",
              "        <tr>\n",
              "            <th>Warehouse_block</th>\n",
              "            <th>Total_Customers</th>\n",
              "        </tr>\n",
              "    </thead>\n",
              "    <tbody>\n",
              "        <tr>\n",
              "            <td>A</td>\n",
              "            <td>5</td>\n",
              "        </tr>\n",
              "        <tr>\n",
              "            <td>B</td>\n",
              "            <td>5</td>\n",
              "        </tr>\n",
              "        <tr>\n",
              "            <td>C</td>\n",
              "            <td>5</td>\n",
              "        </tr>\n",
              "        <tr>\n",
              "            <td>D</td>\n",
              "            <td>5</td>\n",
              "        </tr>\n",
              "        <tr>\n",
              "            <td>F</td>\n",
              "            <td>10</td>\n",
              "        </tr>\n",
              "    </tbody>\n",
              "</table>"
            ],
            "text/plain": [
              "[('A', 5), ('B', 5), ('C', 5), ('D', 5), ('F', 10)]"
            ]
          },
          "execution_count": 156,
          "metadata": {},
          "output_type": "execute_result"
        }
      ],
      "source": [
        "%%sql\n",
        "\n",
        "SELECT w.Warehouse_block, COUNT(c.ID) AS Total_Customers\n",
        "FROM Warehouse w\n",
        "LEFT JOIN Customer c ON w.ID = c.ID\n",
        "GROUP BY w.Warehouse_block;"
      ]
    },
    {
      "cell_type": "markdown",
      "id": "e2f80270",
      "metadata": {
        "id": "e2f80270"
      },
      "source": [
        "# User Management"
      ]
    },
    {
      "cell_type": "markdown",
      "id": "b2267028",
      "metadata": {
        "id": "b2267028"
      },
      "source": [
        "## Membuat User"
      ]
    },
    {
      "cell_type": "markdown",
      "id": "ee3be8a4",
      "metadata": {
        "id": "ee3be8a4"
      },
      "source": [
        "### user_1"
      ]
    },
    {
      "cell_type": "code",
      "execution_count": null,
      "id": "70fafcda",
      "metadata": {
        "id": "70fafcda",
        "outputId": "359d73b8-e0d0-4326-c374-e7308518c6a2"
      },
      "outputs": [
        {
          "name": "stdout",
          "output_type": "stream",
          "text": [
            " * mysql+mysqldb://root@localhost\n",
            "0 rows affected.\n"
          ]
        },
        {
          "data": {
            "text/plain": [
              "[]"
            ]
          },
          "execution_count": 106,
          "metadata": {},
          "output_type": "execute_result"
        }
      ],
      "source": [
        "%%sql\n",
        "\n",
        "CREATE USER 'user_1'@'localhost';"
      ]
    },
    {
      "cell_type": "markdown",
      "id": "d324e2b7",
      "metadata": {
        "id": "d324e2b7"
      },
      "source": [
        "### user_2"
      ]
    },
    {
      "cell_type": "code",
      "execution_count": null,
      "id": "b663509d",
      "metadata": {
        "id": "b663509d",
        "outputId": "67d9ba62-fab0-4811-f7e9-e31eb1bfbccc"
      },
      "outputs": [
        {
          "name": "stdout",
          "output_type": "stream",
          "text": [
            " * mysql+mysqldb://root@localhost\n",
            "0 rows affected.\n"
          ]
        },
        {
          "data": {
            "text/plain": [
              "[]"
            ]
          },
          "execution_count": 107,
          "metadata": {},
          "output_type": "execute_result"
        }
      ],
      "source": [
        "%%sql\n",
        "\n",
        "CREATE USER 'user_2'@'localhost'"
      ]
    },
    {
      "cell_type": "markdown",
      "id": "6fbc0385",
      "metadata": {
        "id": "6fbc0385"
      },
      "source": [
        "## Menambahkan Hak Akses ke User"
      ]
    },
    {
      "cell_type": "markdown",
      "id": "22ea0fd5",
      "metadata": {
        "id": "22ea0fd5"
      },
      "source": [
        "### user_root\n",
        "Dapat melakukan semua proses query"
      ]
    },
    {
      "cell_type": "code",
      "execution_count": null,
      "id": "b44dfc80",
      "metadata": {
        "id": "b44dfc80",
        "outputId": "1328baa7-300f-4f07-f4ea-75284f2113c5"
      },
      "outputs": [
        {
          "name": "stdout",
          "output_type": "stream",
          "text": [
            " * mysql+mysqldb://root@localhost\n",
            "0 rows affected.\n"
          ]
        },
        {
          "data": {
            "text/plain": [
              "[]"
            ]
          },
          "execution_count": 112,
          "metadata": {},
          "output_type": "execute_result"
        }
      ],
      "source": [
        "%%sql\n",
        "\n",
        "GRANT ALL PRIVILEGES ON databasetubes.* TO 'user_root'@'localhost';"
      ]
    },
    {
      "cell_type": "markdown",
      "id": "42bd9282",
      "metadata": {
        "id": "42bd9282"
      },
      "source": [
        "### user_1\n",
        "Tidak dapat melakukan UPDATE"
      ]
    },
    {
      "cell_type": "code",
      "execution_count": null,
      "id": "2f4c1148",
      "metadata": {
        "id": "2f4c1148",
        "outputId": "37b99172-013d-49b8-cb9c-7a90b09c6116"
      },
      "outputs": [
        {
          "name": "stdout",
          "output_type": "stream",
          "text": [
            " * mysql+mysqldb://root@localhost\n",
            "0 rows affected.\n"
          ]
        },
        {
          "data": {
            "text/plain": [
              "[]"
            ]
          },
          "execution_count": 113,
          "metadata": {},
          "output_type": "execute_result"
        }
      ],
      "source": [
        "%%sql\n",
        "\n",
        "GRANT SELECT ON databasetubes.* TO 'user_1'@'localhost';"
      ]
    },
    {
      "cell_type": "markdown",
      "id": "e7c6bc0c",
      "metadata": {
        "id": "e7c6bc0c"
      },
      "source": [
        "### user_2\n",
        "Tidak dapat melakukan CREATE"
      ]
    },
    {
      "cell_type": "code",
      "execution_count": null,
      "id": "56a6bb3f",
      "metadata": {
        "id": "56a6bb3f",
        "outputId": "0b75ed3b-6b83-46b5-b3fb-263a7a68a0b9"
      },
      "outputs": [
        {
          "name": "stdout",
          "output_type": "stream",
          "text": [
            " * mysql+mysqldb://root@localhost\n",
            "0 rows affected.\n"
          ]
        },
        {
          "data": {
            "text/plain": [
              "[]"
            ]
          },
          "execution_count": 114,
          "metadata": {},
          "output_type": "execute_result"
        }
      ],
      "source": [
        "%%sql\n",
        "\n",
        "GRANT INSERT, UPDATE, DELETE ON databasetubes.* TO 'user_2'@'localhost';"
      ]
    },
    {
      "cell_type": "markdown",
      "id": "afe34817",
      "metadata": {
        "id": "afe34817"
      },
      "source": [
        "## Menampilkan Hak Akses"
      ]
    },
    {
      "cell_type": "markdown",
      "id": "ab24e29c",
      "metadata": {
        "id": "ab24e29c"
      },
      "source": [
        "### user_root"
      ]
    },
    {
      "cell_type": "code",
      "execution_count": null,
      "id": "75dc800a",
      "metadata": {
        "id": "75dc800a",
        "outputId": "8693c89e-93c0-4b19-e5b3-8f102feaba0d"
      },
      "outputs": [
        {
          "name": "stdout",
          "output_type": "stream",
          "text": [
            " * mysql+mysqldb://root@localhost\n",
            "2 rows affected.\n"
          ]
        },
        {
          "data": {
            "text/html": [
              "<table>\n",
              "    <thead>\n",
              "        <tr>\n",
              "            <th>Grants for user_root@localhost</th>\n",
              "        </tr>\n",
              "    </thead>\n",
              "    <tbody>\n",
              "        <tr>\n",
              "            <td>GRANT ALL PRIVILEGES ON *.* TO `user_root`@`localhost` IDENTIFIED BY PASSWORD &#x27;*2470C0C06DEE42FD1618BB99005ADCA2EC9D1E19&#x27; WITH GRANT OPTION</td>\n",
              "        </tr>\n",
              "        <tr>\n",
              "            <td>GRANT ALL PRIVILEGES ON `databasetubes`.* TO `user_root`@`localhost`</td>\n",
              "        </tr>\n",
              "    </tbody>\n",
              "</table>"
            ],
            "text/plain": [
              "[(\"GRANT ALL PRIVILEGES ON *.* TO `user_root`@`localhost` IDENTIFIED BY PASSWORD '*2470C0C06DEE42FD1618BB99005ADCA2EC9D1E19' WITH GRANT OPTION\",),\n",
              " ('GRANT ALL PRIVILEGES ON `databasetubes`.* TO `user_root`@`localhost`',)]"
            ]
          },
          "execution_count": 115,
          "metadata": {},
          "output_type": "execute_result"
        }
      ],
      "source": [
        "%%sql\n",
        "\n",
        "SHOW GRANTS FOR 'user_root'@'localhost';"
      ]
    },
    {
      "cell_type": "markdown",
      "id": "dffae9c7",
      "metadata": {
        "id": "dffae9c7"
      },
      "source": [
        "### user_1"
      ]
    },
    {
      "cell_type": "code",
      "execution_count": null,
      "id": "adc02adc",
      "metadata": {
        "id": "adc02adc",
        "outputId": "f800c504-d1b7-4c8d-a074-dcc04334b8dd"
      },
      "outputs": [
        {
          "name": "stdout",
          "output_type": "stream",
          "text": [
            " * mysql+mysqldb://root@localhost\n",
            "1 rows affected.\n"
          ]
        },
        {
          "data": {
            "text/html": [
              "<table>\n",
              "    <thead>\n",
              "        <tr>\n",
              "            <th>Grants for user_1@localhost</th>\n",
              "        </tr>\n",
              "    </thead>\n",
              "    <tbody>\n",
              "        <tr>\n",
              "            <td>GRANT USAGE ON *.* TO `user_1`@`localhost`</td>\n",
              "        </tr>\n",
              "    </tbody>\n",
              "</table>"
            ],
            "text/plain": [
              "[('GRANT USAGE ON *.* TO `user_1`@`localhost`',)]"
            ]
          },
          "execution_count": 116,
          "metadata": {},
          "output_type": "execute_result"
        }
      ],
      "source": [
        "%%sql\n",
        "\n",
        "SHOW GRANTS FOR 'user_1'@'localhost';"
      ]
    },
    {
      "cell_type": "markdown",
      "id": "418f1445",
      "metadata": {
        "id": "418f1445"
      },
      "source": [
        "### user_2"
      ]
    },
    {
      "cell_type": "code",
      "execution_count": null,
      "id": "1ffde176",
      "metadata": {
        "id": "1ffde176",
        "outputId": "6dc83b70-f979-4535-9eac-089d5c98b873"
      },
      "outputs": [
        {
          "name": "stdout",
          "output_type": "stream",
          "text": [
            " * mysql+mysqldb://root@localhost\n",
            "2 rows affected.\n"
          ]
        },
        {
          "data": {
            "text/html": [
              "<table>\n",
              "    <thead>\n",
              "        <tr>\n",
              "            <th>Grants for user_2@localhost</th>\n",
              "        </tr>\n",
              "    </thead>\n",
              "    <tbody>\n",
              "        <tr>\n",
              "            <td>GRANT USAGE ON *.* TO `user_2`@`localhost`</td>\n",
              "        </tr>\n",
              "        <tr>\n",
              "            <td>GRANT INSERT, UPDATE, DELETE ON `databasetubes`.* TO `user_2`@`localhost`</td>\n",
              "        </tr>\n",
              "    </tbody>\n",
              "</table>"
            ],
            "text/plain": [
              "[('GRANT USAGE ON *.* TO `user_2`@`localhost`',),\n",
              " ('GRANT INSERT, UPDATE, DELETE ON `databasetubes`.* TO `user_2`@`localhost`',)]"
            ]
          },
          "execution_count": 117,
          "metadata": {},
          "output_type": "execute_result"
        }
      ],
      "source": [
        "%%sql\n",
        "\n",
        "SHOW GRANTS FOR 'user_2'@'localhost';"
      ]
    }
  ],
  "metadata": {
    "kernelspec": {
      "display_name": "Python 3 (ipykernel)",
      "language": "python",
      "name": "python3"
    },
    "language_info": {
      "codemirror_mode": {
        "name": "ipython",
        "version": 3
      },
      "file_extension": ".py",
      "mimetype": "text/x-python",
      "name": "python",
      "nbconvert_exporter": "python",
      "pygments_lexer": "ipython3",
      "version": "3.10.9"
    },
    "colab": {
      "provenance": []
    }
  },
  "nbformat": 4,
  "nbformat_minor": 5
}